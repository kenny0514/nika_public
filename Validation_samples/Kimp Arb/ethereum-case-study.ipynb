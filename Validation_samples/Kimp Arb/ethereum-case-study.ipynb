{
 "cells": [
  {
   "attachments": {},
   "cell_type": "markdown",
   "metadata": {},
   "source": [
    "### Get Ticker Universe"
   ]
  },
  {
   "cell_type": "code",
   "execution_count": 33,
   "metadata": {},
   "outputs": [
    {
     "name": "stderr",
     "output_type": "stream",
     "text": [
      "upbit requires to release all resources with an explicit call to the .close() coroutine. If you are using the exchange instance with async coroutines, add `await exchange.close()` to your code into a place when you're done with the exchange and don't need the exchange instance anymore (at the end of your async coroutine).\n",
      "Unclosed client session\n",
      "client_session: <aiohttp.client.ClientSession object at 0x1684c45e0>\n",
      "binance requires to release all resources with an explicit call to the .close() coroutine. If you are using the exchange instance with async coroutines, add `await exchange.close()` to your code into a place when you're done with the exchange and don't need the exchange instance anymore (at the end of your async coroutine).\n",
      "Unclosed client session\n",
      "client_session: <aiohttp.client.ClientSession object at 0x1565dfc10>\n"
     ]
    }
   ],
   "source": [
    "import creds\n",
    "import ccxt.async_support as ccxt\n",
    "upbit = ccxt.upbit(config={'apiKey': creds.upbit_api_key, 'secret': creds.upbit_api_secret, 'enableRateLimit': False})\n",
    "binance = ccxt.binance(config={'apiKey':creds.api_key, 'secret': creds.api_secret, 'enableRateLimit': False})\n"
   ]
  },
  {
   "cell_type": "code",
   "execution_count": 34,
   "metadata": {},
   "outputs": [],
   "source": [
    "upbit_markets = await upbit.fetch_markets()\n",
    "upbit_markets = [market['base'] for market in upbit_markets if market['quote']=='KRW']\n",
    "\n",
    "bn_markets = await binance.fetch_markets()\n",
    "bn_spot_markets= [market['base'] for market in bn_markets if market['quote']=='USDT' and market['spot']]\n",
    "bn_futures_markets= [market['base'] for market in bn_markets if market['quote']=='USDT' and market['swap']]"
   ]
  },
  {
   "cell_type": "code",
   "execution_count": 35,
   "metadata": {},
   "outputs": [
    {
     "name": "stdout",
     "output_type": "stream",
     "text": [
      "BEAM\n",
      "LUNA\n",
      "DODO\n",
      "1000SHIB\n",
      "1000XEC\n",
      "1000LUNC\n",
      "1000PEPE\n",
      "1000FLOKI\n",
      "1000BONK\n"
     ]
    }
   ],
   "source": [
    "temp = []\n",
    "for ticker in bn_spot_markets:\n",
    "    if ticker in bn_futures_markets:\n",
    "        temp.append(ticker)\n",
    "    elif '1000'+ticker  in bn_futures_markets:\n",
    "        print('1000'+ticker)\n",
    "        temp.append(ticker)\n",
    "    elif ticker in ['LUNA', 'DODO', 'BEAM']:\n",
    "        print(ticker)\n",
    "        temp.append(ticker)\n",
    "bn_markets = temp"
   ]
  },
  {
   "cell_type": "code",
   "execution_count": 36,
   "metadata": {},
   "outputs": [
    {
     "data": {
      "text/plain": [
       "90"
      ]
     },
     "execution_count": 36,
     "metadata": {},
     "output_type": "execute_result"
    }
   ],
   "source": [
    "universe = []\n",
    "for ticker in upbit_markets:\n",
    "    if ticker in bn_markets:\n",
    "        universe.append(ticker)\n",
    "len(universe)"
   ]
  },
  {
   "attachments": {},
   "cell_type": "markdown",
   "metadata": {},
   "source": [
    "### Download all ohlcv files"
   ]
  },
  {
   "cell_type": "code",
   "execution_count": 37,
   "metadata": {},
   "outputs": [
    {
     "name": "stdout",
     "output_type": "stream",
     "text": [
      "Starting API gateway in 1 regions.\n",
      "Using 1 endpoints with name 'https://api.upbit.com - IP Rotate API' (0 new).\n"
     ]
    }
   ],
   "source": [
    "from BinanceDownloader import BinanceDownloader\n",
    "from UpbitDownloader import UpbitDownloader\n",
    "bd = BinanceDownloader()\n",
    "ud = UpbitDownloader(rotate_ip = True)"
   ]
  },
  {
   "cell_type": "code",
   "execution_count": 39,
   "metadata": {},
   "outputs": [
    {
     "name": "stderr",
     "output_type": "stream",
     "text": [
      "0it [00:01, ?it/s]"
     ]
    },
    {
     "name": "stdout",
     "output_type": "stream",
     "text": [
      "BEAMXUSDT_spot_5m.csv done\n",
      "0 BTC 2023-11-14 08:00:00+00:00 2024-06-30 23:55:00+00:00\n"
     ]
    },
    {
     "name": "stderr",
     "output_type": "stream",
     "text": [
      "\n"
     ]
    }
   ],
   "source": [
    "import asyncio\n",
    "from tqdm import tqdm\n",
    "\n",
    "start_date = \"2023-07-01\"\n",
    "\n",
    "for i,ticker in tqdm(enumerate(universe)):\n",
    "    df = await bd.get_ohlcv_monthly_full(ticker+'USDT', '5m', 'spot', start_date = start_date, num_threads = 10, output_dir = 'ohlcv_data/binance/')\n",
    "    # df = await ud.get_ohlcv_full(ticker, 5, start_datetime = start_date, output_dir = 'ohlcv_data/upbit/', num_threads = 10, sleep = 0, rotate_ip=True)\n",
    "    if df is not None:\n",
    "        print(i,ticker, df.Time.iloc[0], df.Time.iloc[-1])\n",
    "    else:\n",
    "        print(i,ticker, 'yielded none')\n"
   ]
  },
  {
   "attachments": {},
   "cell_type": "markdown",
   "metadata": {},
   "source": [
    "### Collect Samples"
   ]
  },
  {
   "cell_type": "code",
   "execution_count": null,
   "metadata": {},
   "outputs": [],
   "source": []
  },
  {
   "cell_type": "code",
   "execution_count": 6,
   "metadata": {},
   "outputs": [
    {
     "name": "stdout",
     "output_type": "stream",
     "text": [
      "Error with download_df: File is not a zip file\n",
      "Error with download_df: File is not a zip file\n"
     ]
    }
   ],
   "source": [
    "import pandas as pd\n",
    "import numpy as np\n",
    "import asyncio\n",
    "import matplotlib.pyplot as plt\n",
    "async def get_premium (ticker, btc_premium):\n",
    "    target_bn = await bd.get_ohlcv_daily_single(ticker + 'USDT', date, '15m', 'spot', num_days, use_async = False)\n",
    "    target_up = await ud.get_daily_ohlcv(ticker, date, '15m', num_days, use_async= False)\n",
    "\n",
    "    if target_up is not None and target_bn is not None:\n",
    "        if len(target_bn) == len(target_up) and len(target_bn) == len(btc_bn):\n",
    "            target_premium = target_up.Close.values/target_bn.Close.values\n",
    "            relative_premium = target_premium /btc_premium-1\n",
    "            relative_premium = pd.Series(relative_premium, index = target_up.index)\n",
    "            if max(abs(relative_premium))> 0.005:\n",
    "                relative_premium.plot(label='ticker')\n",
    "\n",
    "\n",
    "\n",
    "start_date = pd.to_datetime(\"2024-07-31\", utc=True)\n",
    "date = start_date\n",
    "num_days = 1\n",
    "while date > start_date - pd.Timedelta(days=100):\n",
    "    btc_bn = await bd.get_ohlcv_daily_single('BTCUSDT', date, '15m', 'spot', num_days, use_async = False )\n",
    "    btc_up = await ud.get_daily_ohlcv('BTC', date, '15m', num_days, use_async= False)\n",
    "    btc_premium = btc_up.Close.values/btc_bn.Close.values\n",
    "\n",
    "    tasks = [get_premium(ticker, btc_premium) for ticker in universe]\n",
    "    await asyncio.gather(*tasks)\n",
    "    plt.legend()\n",
    "    plt.show()\n",
    "    date -= pd.Timedelta(days=1)\n"
   ]
  },
  {
   "cell_type": "code",
   "execution_count": 7,
   "metadata": {},
   "outputs": [
    {
     "data": {
      "text/plain": [
       "['ETH',\n",
       " 'NEO',\n",
       " 'MTL',\n",
       " 'XRP',\n",
       " 'ETC',\n",
       " 'SNT',\n",
       " 'WAVES',\n",
       " 'XEM',\n",
       " 'QTUM',\n",
       " 'LSK',\n",
       " 'STEEM',\n",
       " 'XLM',\n",
       " 'ARK',\n",
       " 'STORJ',\n",
       " 'ADA',\n",
       " 'POWR',\n",
       " 'ICX',\n",
       " 'EOS',\n",
       " 'TRX',\n",
       " 'SC',\n",
       " 'ONT',\n",
       " 'ZIL',\n",
       " 'POLYX',\n",
       " 'ZRX',\n",
       " 'LOOM',\n",
       " 'BCH',\n",
       " 'BAT',\n",
       " 'IOST',\n",
       " 'CVC',\n",
       " 'IOTA',\n",
       " 'HIFI',\n",
       " 'ONG',\n",
       " 'GAS',\n",
       " 'KNC',\n",
       " 'BSV',\n",
       " 'THETA',\n",
       " 'MANA',\n",
       " 'ANKR',\n",
       " 'ATOM',\n",
       " 'WAXP',\n",
       " 'HBAR',\n",
       " 'STPT',\n",
       " 'VET',\n",
       " 'CHZ',\n",
       " 'STMX',\n",
       " 'KAVA',\n",
       " 'LINK',\n",
       " 'XTZ',\n",
       " 'SXP',\n",
       " 'DOT',\n",
       " 'STRAX',\n",
       " 'GLM',\n",
       " 'SAND',\n",
       " 'DOGE',\n",
       " 'FLOW',\n",
       " 'AXS',\n",
       " 'STX',\n",
       " 'XEC',\n",
       " 'SOL',\n",
       " 'MATIC',\n",
       " 'AAVE',\n",
       " '1INCH',\n",
       " 'ALGO',\n",
       " 'NEAR',\n",
       " 'AVAX',\n",
       " 'T',\n",
       " 'CELO',\n",
       " 'GMT',\n",
       " 'APT',\n",
       " 'SHIB',\n",
       " 'MASK',\n",
       " 'ARB',\n",
       " 'EGLD',\n",
       " 'SUI',\n",
       " 'GRT',\n",
       " 'BLUR',\n",
       " 'IMX',\n",
       " 'SEI',\n",
       " 'MINA',\n",
       " 'ASTR',\n",
       " 'ID',\n",
       " 'PYTH',\n",
       " 'AUCTION',\n",
       " 'STG',\n",
       " 'BEAM',\n",
       " 'ZRO',\n",
       " 'JUP',\n",
       " 'ENS']"
      ]
     },
     "execution_count": 7,
     "metadata": {},
     "output_type": "execute_result"
    }
   ],
   "source": [
    "universe"
   ]
  },
  {
   "cell_type": "code",
   "execution_count": 5,
   "metadata": {},
   "outputs": [
    {
     "name": "stdout",
     "output_type": "stream",
     "text": [
      "Trader successfully initialized.\n"
     ]
    }
   ],
   "source": []
  },
  {
   "cell_type": "code",
   "execution_count": null,
   "metadata": {},
   "outputs": [],
   "source": []
  },
  {
   "cell_type": "code",
   "execution_count": 7,
   "metadata": {},
   "outputs": [],
   "source": [
    "import matplotlib.pyplot as plt\n",
    "\n",
    "ticker = 'STRAX'\n",
    "timeframe = '30m'\n",
    "numbars = 48*4\n",
    "date = pd.to_datetime(\"2024.01.31 00:00\", utc=True)"
   ]
  },
  {
   "cell_type": "code",
   "execution_count": null,
   "metadata": {},
   "outputs": [],
   "source": []
  },
  {
   "cell_type": "code",
   "execution_count": 10,
   "metadata": {},
   "outputs": [
    {
     "ename": "NameError",
     "evalue": "name 'upbit_premium' is not defined",
     "output_type": "error",
     "traceback": [
      "\u001b[0;31m---------------------------------------------------------------------------\u001b[0m",
      "\u001b[0;31mNameError\u001b[0m                                 Traceback (most recent call last)",
      "Cell \u001b[0;32mIn[10], line 15\u001b[0m\n\u001b[1;32m     12\u001b[0m \u001b[39mexcept\u001b[39;00m:\n\u001b[1;32m     13\u001b[0m     \u001b[39mpass\u001b[39;00m\n\u001b[0;32m---> 15\u001b[0m premium \u001b[39m=\u001b[39m (upbit_premium\u001b[39m/\u001b[39mbinance_premium\u001b[39m-\u001b[39m\u001b[39m1\u001b[39m)\n\u001b[1;32m     16\u001b[0m max_premium \u001b[39m=\u001b[39m \u001b[39mmax\u001b[39m(\u001b[39mabs\u001b[39m(premium))\n\u001b[1;32m     17\u001b[0m \u001b[39mprint\u001b[39m(date,max_premium)\n",
      "\u001b[0;31mNameError\u001b[0m: name 'upbit_premium' is not defined"
     ]
    }
   ],
   "source": [
    "# while date < pd.to_datetime(\"2024-08-05 00:00\", utc=True):\n",
    "since = int(date.timestamp()*1000)\n",
    "\n",
    "try:\n",
    "    krw = await upbit.fetch_ohlcv(f'{ticker}/KRW', timeframe, numbars, since)\n",
    "    usdt = await binance.fetch_ohlcv(f'{ticker}/USDT', timeframe, numbars, since)\n",
    "    upbit_premium = krw['Close']/usdt['Close']-1\n",
    "\n",
    "    krw = await upbit.fetch_ohlcv(f'BTC/KRW', timeframe, numbars, since)\n",
    "    usdt = await binance.fetch_ohlcv(f'BTC/USDT', timeframe, numbars, since)\n",
    "    binance_premium = krw['Close']/usdt['Close']-1\n",
    "except:\n",
    "    pass\n",
    "\n",
    "premium = (upbit_premium/binance_premium-1)\n",
    "max_premium = max(abs(premium))\n",
    "print(date,max_premium)\n",
    "\n",
    "if max_premium>0.025:\n",
    "    premium.plot(title=f'{ticker} premium',marker='o', figsize = (14,6));plt.show()\n",
    "\n",
    "date += pd.Timedelta(days=4)\n"
   ]
  },
  {
   "cell_type": "code",
   "execution_count": null,
   "metadata": {},
   "outputs": [],
   "source": []
  },
  {
   "cell_type": "code",
   "execution_count": 190,
   "metadata": {},
   "outputs": [
    {
     "name": "stdout",
     "output_type": "stream",
     "text": [
      "2024-08-05 00:00:00+00:00 0.06776223890182242\n"
     ]
    },
    {
     "data": {
      "image/png": "[encoded data removed]",
      "text/plain": [
       "<Figure size 640x480 with 1 Axes>"
      ]
     },
     "metadata": {},
     "output_type": "display_data"
    }
   ],
   "source": [
    "# while True:\n",
    "since = int(date.timestamp()*1000)\n",
    "\n",
    "upbit_price = await upbit.fetch_ohlcv(f'{ticker}/KRW', timeframe, numbars, since)\n",
    "binance_price = await binance.fetch_ohlcv(f'{ticker}/USDT', timeframe, numbars, since)\n",
    "premium = upbit_price['Close']/binance_price['Close']-1\n",
    "\n",
    "usdt = (await upbit.fetch_ohlcv('USDT/KRW', timeframe, numbars, since))['Close']\n",
    "premium = (premium/usdt-1)\n",
    "max_premium = max(abs(premium))\n",
    "print(date, max_premium)\n",
    "# if max_premium>0.02:\n",
    "premium.plot(title=f'{ticker} premium');plt.show()\n",
    "# date += pd.Timedelta(days=1)"
   ]
  },
  {
   "cell_type": "code",
   "execution_count": null,
   "metadata": {},
   "outputs": [],
   "source": []
  }
 ],
 "metadata": {
  "kernelspec": {
   "display_name": "MLTrading",
   "language": "python",
   "name": "python3"
  },
  "language_info": {
   "codemirror_mode": {
    "name": "ipython",
    "version": 3
   },
   "file_extension": ".py",
   "mimetype": "text/x-python",
   "name": "python",
   "nbconvert_exporter": "python",
   "pygments_lexer": "ipython3",
   "version": "3.8.19"
  },
  "orig_nbformat": 4
 },
 "nbformat": 4,
 "nbformat_minor": 2
}
