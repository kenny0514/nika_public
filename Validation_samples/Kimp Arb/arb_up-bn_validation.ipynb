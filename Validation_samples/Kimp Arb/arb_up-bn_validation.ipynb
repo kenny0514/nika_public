{
 "cells": [
  {
   "attachments": {},
   "cell_type": "markdown",
   "metadata": {},
   "source": [
    "### Get Ticker Universe"
   ]
  },
  {
   "attachments": {},
   "cell_type": "markdown",
   "metadata": {},
   "source": [
    "Conditions:\n",
    "- available at Binance spot AND futures (so that we can hedge)\n",
    "- available at upbit"
   ]
  },
  {
   "cell_type": "code",
   "execution_count": 1,
   "metadata": {},
   "outputs": [
    {
     "data": {
      "text/plain": [
       "90"
      ]
     },
     "execution_count": 1,
     "metadata": {},
     "output_type": "execute_result"
    }
   ],
   "source": [
    "import creds as creds\n",
    "import ccxt.async_support as ccxt\n",
    "\n",
    "upbit = ccxt.upbit(config={'apiKey': creds.upbit_api_key, 'secret': creds.upbit_api_secret, 'enableRateLimit': False})\n",
    "binance = ccxt.binance(config={'apiKey':creds.api_key, 'secret': creds.api_secret, 'enableRateLimit': False})\n",
    "\n",
    "upbit_markets = await upbit.fetch_markets()\n",
    "upbit_markets = [market['base'] for market in upbit_markets if market['quote']=='KRW']\n",
    "\n",
    "bn_markets = await binance.fetch_markets()\n",
    "bn_spot_markets= [market['base'] for market in bn_markets if market['quote']=='USDT' and market['spot']]\n",
    "bn_futures_markets= [market['base'] for market in bn_markets if market['quote']=='USDT' and market['swap']]\n",
    "\n",
    "temp = []\n",
    "futures_converter = {}\n",
    "for ticker in bn_spot_markets:\n",
    "    if ticker in bn_futures_markets:\n",
    "        temp.append(ticker)\n",
    "        futures_converter[ticker] = ticker\n",
    "    elif '1000'+ticker  in bn_futures_markets:\n",
    "        temp.append(ticker)\n",
    "        futures_converter[ticker] = '1000'+ticker\n",
    "    elif ticker in ['LUNA', 'DODO', 'BEAM']:\n",
    "        temp.append(ticker)\n",
    "bn_markets = temp\n",
    "\n",
    "universe = []\n",
    "futures_univ = []\n",
    "for ticker in upbit_markets:\n",
    "    if ticker in bn_markets:\n",
    "        universe.append(ticker)\n",
    "len(universe)"
   ]
  },
  {
   "cell_type": "code",
   "execution_count": 2,
   "metadata": {},
   "outputs": [],
   "source": [
    "futures_universe = []\n",
    "for ticker in universe:\n",
    "    if ticker in futures_converter:\n",
    "        futures_universe.append(futures_converter[ticker])\n",
    "    elif ticker == 'BEAM':\n",
    "        futures_universe.append('BEAMX')\n",
    "    else:\n",
    "        print(ticker)"
   ]
  },
  {
   "attachments": {},
   "cell_type": "markdown",
   "metadata": {},
   "source": [
    "### Download all ohlcv files"
   ]
  },
  {
   "cell_type": "code",
   "execution_count": 3,
   "metadata": {},
   "outputs": [
    {
     "name": "stdout",
     "output_type": "stream",
     "text": [
      "Starting API gateway in 1 regions.\n",
      "Using 1 endpoints with name 'https://api.upbit.com - IP Rotate API' (0 new).\n"
     ]
    },
    {
     "name": "stderr",
     "output_type": "stream",
     "text": [
      "1it [00:01,  1.51s/it]"
     ]
    },
    {
     "name": "stdout",
     "output_type": "stream",
     "text": [
      "BTCUSDT_futures_5m.csv done\n"
     ]
    },
    {
     "name": "stderr",
     "output_type": "stream",
     "text": [
      "2it [00:03,  1.56s/it]"
     ]
    },
    {
     "name": "stdout",
     "output_type": "stream",
     "text": [
      "ETHUSDT_futures_5m.csv done\n"
     ]
    },
    {
     "name": "stderr",
     "output_type": "stream",
     "text": [
      "3it [00:04,  1.50s/it]"
     ]
    },
    {
     "name": "stdout",
     "output_type": "stream",
     "text": [
      "NEOUSDT_futures_5m.csv done\n"
     ]
    },
    {
     "name": "stderr",
     "output_type": "stream",
     "text": [
      "4it [00:05,  1.45s/it]"
     ]
    },
    {
     "name": "stdout",
     "output_type": "stream",
     "text": [
      "MTLUSDT_futures_5m.csv done\n"
     ]
    },
    {
     "name": "stderr",
     "output_type": "stream",
     "text": [
      "5it [00:07,  1.49s/it]"
     ]
    },
    {
     "name": "stdout",
     "output_type": "stream",
     "text": [
      "XRPUSDT_futures_5m.csv done\n"
     ]
    },
    {
     "name": "stderr",
     "output_type": "stream",
     "text": [
      "6it [00:08,  1.49s/it]"
     ]
    },
    {
     "name": "stdout",
     "output_type": "stream",
     "text": [
      "ETCUSDT_futures_5m.csv done\n"
     ]
    },
    {
     "name": "stderr",
     "output_type": "stream",
     "text": [
      "7it [00:10,  1.41s/it]"
     ]
    },
    {
     "name": "stdout",
     "output_type": "stream",
     "text": [
      "SNTUSDT_futures_5m.csv done\n"
     ]
    },
    {
     "name": "stderr",
     "output_type": "stream",
     "text": [
      "8it [00:11,  1.43s/it]"
     ]
    },
    {
     "name": "stdout",
     "output_type": "stream",
     "text": [
      "WAVESUSDT_futures_5m.csv done\n"
     ]
    },
    {
     "name": "stderr",
     "output_type": "stream",
     "text": [
      "9it [00:12,  1.35s/it]"
     ]
    },
    {
     "name": "stdout",
     "output_type": "stream",
     "text": [
      "XEMUSDT_futures_5m.csv done\n"
     ]
    },
    {
     "name": "stderr",
     "output_type": "stream",
     "text": [
      "10it [00:14,  1.35s/it]"
     ]
    },
    {
     "name": "stdout",
     "output_type": "stream",
     "text": [
      "QTUMUSDT_futures_5m.csv done\n"
     ]
    },
    {
     "name": "stderr",
     "output_type": "stream",
     "text": [
      "11it [00:15,  1.25s/it]"
     ]
    },
    {
     "name": "stdout",
     "output_type": "stream",
     "text": [
      "LSKUSDT_futures_5m.csv done\n"
     ]
    },
    {
     "name": "stderr",
     "output_type": "stream",
     "text": [
      "12it [00:16,  1.23s/it]"
     ]
    },
    {
     "name": "stdout",
     "output_type": "stream",
     "text": [
      "STEEMUSDT_futures_5m.csv done\n"
     ]
    },
    {
     "name": "stderr",
     "output_type": "stream",
     "text": [
      "13it [00:17,  1.31s/it]"
     ]
    },
    {
     "name": "stdout",
     "output_type": "stream",
     "text": [
      "XLMUSDT_futures_5m.csv done\n"
     ]
    },
    {
     "name": "stderr",
     "output_type": "stream",
     "text": [
      "14it [00:19,  1.29s/it]"
     ]
    },
    {
     "name": "stdout",
     "output_type": "stream",
     "text": [
      "ARKUSDT_futures_5m.csv done\n"
     ]
    },
    {
     "name": "stderr",
     "output_type": "stream",
     "text": [
      "15it [00:20,  1.28s/it]"
     ]
    },
    {
     "name": "stdout",
     "output_type": "stream",
     "text": [
      "STORJUSDT_futures_5m.csv done\n"
     ]
    },
    {
     "name": "stderr",
     "output_type": "stream",
     "text": [
      "16it [00:21,  1.30s/it]"
     ]
    },
    {
     "name": "stdout",
     "output_type": "stream",
     "text": [
      "ADAUSDT_futures_5m.csv done\n"
     ]
    },
    {
     "name": "stderr",
     "output_type": "stream",
     "text": [
      "17it [00:22,  1.27s/it]"
     ]
    },
    {
     "name": "stdout",
     "output_type": "stream",
     "text": [
      "POWRUSDT_futures_5m.csv done\n"
     ]
    },
    {
     "name": "stderr",
     "output_type": "stream",
     "text": [
      "18it [00:24,  1.50s/it]"
     ]
    },
    {
     "name": "stdout",
     "output_type": "stream",
     "text": [
      "ICXUSDT_futures_5m.csv done\n"
     ]
    },
    {
     "name": "stderr",
     "output_type": "stream",
     "text": [
      "19it [00:26,  1.51s/it]"
     ]
    },
    {
     "name": "stdout",
     "output_type": "stream",
     "text": [
      "EOSUSDT_futures_5m.csv done\n"
     ]
    },
    {
     "name": "stderr",
     "output_type": "stream",
     "text": [
      "20it [00:27,  1.49s/it]"
     ]
    },
    {
     "name": "stdout",
     "output_type": "stream",
     "text": [
      "TRXUSDT_futures_5m.csv done\n"
     ]
    },
    {
     "name": "stderr",
     "output_type": "stream",
     "text": [
      "21it [00:29,  1.43s/it]"
     ]
    },
    {
     "name": "stdout",
     "output_type": "stream",
     "text": [
      "SCUSDT_futures_5m.csv done\n"
     ]
    },
    {
     "name": "stderr",
     "output_type": "stream",
     "text": [
      "22it [00:30,  1.44s/it]"
     ]
    },
    {
     "name": "stdout",
     "output_type": "stream",
     "text": [
      "ONTUSDT_futures_5m.csv done\n"
     ]
    },
    {
     "name": "stderr",
     "output_type": "stream",
     "text": [
      "23it [00:32,  1.42s/it]"
     ]
    },
    {
     "name": "stdout",
     "output_type": "stream",
     "text": [
      "ZILUSDT_futures_5m.csv done\n"
     ]
    },
    {
     "name": "stderr",
     "output_type": "stream",
     "text": [
      "24it [00:33,  1.35s/it]"
     ]
    },
    {
     "name": "stdout",
     "output_type": "stream",
     "text": [
      "POLYXUSDT_futures_5m.csv done\n"
     ]
    },
    {
     "name": "stderr",
     "output_type": "stream",
     "text": [
      "25it [00:34,  1.41s/it]"
     ]
    },
    {
     "name": "stdout",
     "output_type": "stream",
     "text": [
      "ZRXUSDT_futures_5m.csv done\n"
     ]
    },
    {
     "name": "stderr",
     "output_type": "stream",
     "text": [
      "26it [00:36,  1.35s/it]"
     ]
    },
    {
     "name": "stdout",
     "output_type": "stream",
     "text": [
      "LOOMUSDT_futures_5m.csv done\n"
     ]
    },
    {
     "name": "stderr",
     "output_type": "stream",
     "text": [
      "27it [00:37,  1.40s/it]"
     ]
    },
    {
     "name": "stdout",
     "output_type": "stream",
     "text": [
      "BCHUSDT_futures_5m.csv done\n"
     ]
    },
    {
     "name": "stderr",
     "output_type": "stream",
     "text": [
      "28it [00:39,  1.43s/it]"
     ]
    },
    {
     "name": "stdout",
     "output_type": "stream",
     "text": [
      "BATUSDT_futures_5m.csv done\n"
     ]
    },
    {
     "name": "stderr",
     "output_type": "stream",
     "text": [
      "29it [00:40,  1.48s/it]"
     ]
    },
    {
     "name": "stdout",
     "output_type": "stream",
     "text": [
      "IOSTUSDT_futures_5m.csv done\n"
     ]
    },
    {
     "name": "stderr",
     "output_type": "stream",
     "text": [
      "30it [00:41,  1.38s/it]"
     ]
    },
    {
     "name": "stdout",
     "output_type": "stream",
     "text": [
      "CVCUSDT_futures_5m.csv done\n"
     ]
    },
    {
     "name": "stderr",
     "output_type": "stream",
     "text": [
      "31it [00:43,  1.42s/it]"
     ]
    },
    {
     "name": "stdout",
     "output_type": "stream",
     "text": [
      "IOTAUSDT_futures_5m.csv done\n"
     ]
    },
    {
     "name": "stderr",
     "output_type": "stream",
     "text": [
      "32it [00:44,  1.37s/it]"
     ]
    },
    {
     "name": "stdout",
     "output_type": "stream",
     "text": [
      "HIFIUSDT_futures_5m.csv done\n"
     ]
    },
    {
     "name": "stderr",
     "output_type": "stream",
     "text": [
      "33it [00:45,  1.32s/it]"
     ]
    },
    {
     "name": "stdout",
     "output_type": "stream",
     "text": [
      "ONGUSDT_futures_5m.csv done\n"
     ]
    },
    {
     "name": "stderr",
     "output_type": "stream",
     "text": [
      "34it [00:47,  1.33s/it]"
     ]
    },
    {
     "name": "stdout",
     "output_type": "stream",
     "text": [
      "GASUSDT_futures_5m.csv done\n"
     ]
    },
    {
     "name": "stderr",
     "output_type": "stream",
     "text": [
      "35it [00:48,  1.37s/it]"
     ]
    },
    {
     "name": "stdout",
     "output_type": "stream",
     "text": [
      "KNCUSDT_futures_5m.csv done\n",
      "BSVUSDT already exists in the directory. Skipping...\n"
     ]
    },
    {
     "name": "stderr",
     "output_type": "stream",
     "text": [
      "37it [00:50,  1.07s/it]"
     ]
    },
    {
     "name": "stdout",
     "output_type": "stream",
     "text": [
      "THETAUSDT_futures_5m.csv done\n"
     ]
    },
    {
     "name": "stderr",
     "output_type": "stream",
     "text": [
      "38it [00:51,  1.15s/it]"
     ]
    },
    {
     "name": "stdout",
     "output_type": "stream",
     "text": [
      "MANAUSDT_futures_5m.csv done\n"
     ]
    },
    {
     "name": "stderr",
     "output_type": "stream",
     "text": [
      "39it [00:52,  1.24s/it]"
     ]
    },
    {
     "name": "stdout",
     "output_type": "stream",
     "text": [
      "ANKRUSDT_futures_5m.csv done\n"
     ]
    },
    {
     "name": "stderr",
     "output_type": "stream",
     "text": [
      "40it [00:54,  1.35s/it]"
     ]
    },
    {
     "name": "stdout",
     "output_type": "stream",
     "text": [
      "ATOMUSDT_futures_5m.csv done\n"
     ]
    },
    {
     "name": "stderr",
     "output_type": "stream",
     "text": [
      "41it [00:55,  1.32s/it]"
     ]
    },
    {
     "name": "stdout",
     "output_type": "stream",
     "text": [
      "WAXPUSDT_futures_5m.csv done\n"
     ]
    },
    {
     "name": "stderr",
     "output_type": "stream",
     "text": [
      "42it [00:57,  1.42s/it]"
     ]
    },
    {
     "name": "stdout",
     "output_type": "stream",
     "text": [
      "HBARUSDT_futures_5m.csv done\n"
     ]
    },
    {
     "name": "stderr",
     "output_type": "stream",
     "text": [
      "43it [00:58,  1.35s/it]"
     ]
    },
    {
     "name": "stdout",
     "output_type": "stream",
     "text": [
      "STPTUSDT_futures_5m.csv done\n"
     ]
    },
    {
     "name": "stderr",
     "output_type": "stream",
     "text": [
      "44it [01:00,  1.36s/it]"
     ]
    },
    {
     "name": "stdout",
     "output_type": "stream",
     "text": [
      "VETUSDT_futures_5m.csv done\n"
     ]
    },
    {
     "name": "stderr",
     "output_type": "stream",
     "text": [
      "45it [01:01,  1.38s/it]"
     ]
    },
    {
     "name": "stdout",
     "output_type": "stream",
     "text": [
      "CHZUSDT_futures_5m.csv done\n"
     ]
    },
    {
     "name": "stderr",
     "output_type": "stream",
     "text": [
      "46it [01:02,  1.39s/it]"
     ]
    },
    {
     "name": "stdout",
     "output_type": "stream",
     "text": [
      "STMXUSDT_futures_5m.csv done\n"
     ]
    },
    {
     "name": "stderr",
     "output_type": "stream",
     "text": [
      "47it [01:04,  1.40s/it]"
     ]
    },
    {
     "name": "stdout",
     "output_type": "stream",
     "text": [
      "KAVAUSDT_futures_5m.csv done\n"
     ]
    },
    {
     "name": "stderr",
     "output_type": "stream",
     "text": [
      "48it [01:05,  1.43s/it]"
     ]
    },
    {
     "name": "stdout",
     "output_type": "stream",
     "text": [
      "LINKUSDT_futures_5m.csv done\n"
     ]
    },
    {
     "name": "stderr",
     "output_type": "stream",
     "text": [
      "49it [01:07,  1.41s/it]"
     ]
    },
    {
     "name": "stdout",
     "output_type": "stream",
     "text": [
      "XTZUSDT_futures_5m.csv done\n"
     ]
    },
    {
     "name": "stderr",
     "output_type": "stream",
     "text": [
      "50it [01:08,  1.44s/it]"
     ]
    },
    {
     "name": "stdout",
     "output_type": "stream",
     "text": [
      "SXPUSDT_futures_5m.csv done\n"
     ]
    },
    {
     "name": "stderr",
     "output_type": "stream",
     "text": [
      "51it [01:10,  1.46s/it]"
     ]
    },
    {
     "name": "stdout",
     "output_type": "stream",
     "text": [
      "DOTUSDT_futures_5m.csv done\n"
     ]
    },
    {
     "name": "stderr",
     "output_type": "stream",
     "text": [
      "52it [01:11,  1.36s/it]"
     ]
    },
    {
     "name": "stdout",
     "output_type": "stream",
     "text": [
      "STRAXUSDT_futures_5m.csv done\n"
     ]
    },
    {
     "name": "stderr",
     "output_type": "stream",
     "text": [
      "53it [01:12,  1.25s/it]"
     ]
    },
    {
     "name": "stdout",
     "output_type": "stream",
     "text": [
      "GLMUSDT_futures_5m.csv done\n"
     ]
    },
    {
     "name": "stderr",
     "output_type": "stream",
     "text": [
      "54it [01:13,  1.29s/it]"
     ]
    },
    {
     "name": "stdout",
     "output_type": "stream",
     "text": [
      "SANDUSDT_futures_5m.csv done\n"
     ]
    },
    {
     "name": "stderr",
     "output_type": "stream",
     "text": [
      "55it [01:15,  1.31s/it]"
     ]
    },
    {
     "name": "stdout",
     "output_type": "stream",
     "text": [
      "DOGEUSDT_futures_5m.csv done\n"
     ]
    },
    {
     "name": "stderr",
     "output_type": "stream",
     "text": [
      "56it [01:16,  1.35s/it]"
     ]
    },
    {
     "name": "stdout",
     "output_type": "stream",
     "text": [
      "FLOWUSDT_futures_5m.csv done\n"
     ]
    },
    {
     "name": "stderr",
     "output_type": "stream",
     "text": [
      "57it [01:17,  1.33s/it]"
     ]
    },
    {
     "name": "stdout",
     "output_type": "stream",
     "text": [
      "AXSUSDT_futures_5m.csv done\n"
     ]
    },
    {
     "name": "stderr",
     "output_type": "stream",
     "text": [
      "58it [01:19,  1.35s/it]"
     ]
    },
    {
     "name": "stdout",
     "output_type": "stream",
     "text": [
      "STXUSDT_futures_5m.csv done\n",
      "1000XECUSDT already exists in the directory. Skipping...\n"
     ]
    },
    {
     "name": "stderr",
     "output_type": "stream",
     "text": [
      "60it [01:20,  1.04s/it]"
     ]
    },
    {
     "name": "stdout",
     "output_type": "stream",
     "text": [
      "SOLUSDT_futures_5m.csv done\n"
     ]
    },
    {
     "name": "stderr",
     "output_type": "stream",
     "text": [
      "61it [01:21,  1.12s/it]"
     ]
    },
    {
     "name": "stdout",
     "output_type": "stream",
     "text": [
      "MATICUSDT_futures_5m.csv done\n"
     ]
    },
    {
     "name": "stderr",
     "output_type": "stream",
     "text": [
      "62it [01:23,  1.19s/it]"
     ]
    },
    {
     "name": "stdout",
     "output_type": "stream",
     "text": [
      "AAVEUSDT_futures_5m.csv done\n"
     ]
    },
    {
     "name": "stderr",
     "output_type": "stream",
     "text": [
      "63it [01:24,  1.24s/it]"
     ]
    },
    {
     "name": "stdout",
     "output_type": "stream",
     "text": [
      "1INCHUSDT_futures_5m.csv done\n"
     ]
    },
    {
     "name": "stderr",
     "output_type": "stream",
     "text": [
      "64it [01:26,  1.32s/it]"
     ]
    },
    {
     "name": "stdout",
     "output_type": "stream",
     "text": [
      "ALGOUSDT_futures_5m.csv done\n"
     ]
    },
    {
     "name": "stderr",
     "output_type": "stream",
     "text": [
      "65it [01:27,  1.34s/it]"
     ]
    },
    {
     "name": "stdout",
     "output_type": "stream",
     "text": [
      "NEARUSDT_futures_5m.csv done\n"
     ]
    },
    {
     "name": "stderr",
     "output_type": "stream",
     "text": [
      "66it [01:29,  1.39s/it]"
     ]
    },
    {
     "name": "stdout",
     "output_type": "stream",
     "text": [
      "AVAXUSDT_futures_5m.csv done\n",
      "TUSDT already exists in the directory. Skipping...\n"
     ]
    },
    {
     "name": "stderr",
     "output_type": "stream",
     "text": [
      "68it [01:30,  1.07s/it]"
     ]
    },
    {
     "name": "stdout",
     "output_type": "stream",
     "text": [
      "CELOUSDT_futures_5m.csv done\n"
     ]
    },
    {
     "name": "stderr",
     "output_type": "stream",
     "text": [
      "69it [01:31,  1.15s/it]"
     ]
    },
    {
     "name": "stdout",
     "output_type": "stream",
     "text": [
      "GMTUSDT_futures_5m.csv done\n"
     ]
    },
    {
     "name": "stderr",
     "output_type": "stream",
     "text": [
      "70it [01:33,  1.23s/it]"
     ]
    },
    {
     "name": "stdout",
     "output_type": "stream",
     "text": [
      "APTUSDT_futures_5m.csv done\n",
      "1000SHIBUSDT already exists in the directory. Skipping...\n"
     ]
    },
    {
     "name": "stderr",
     "output_type": "stream",
     "text": [
      "72it [01:34,  1.02it/s]"
     ]
    },
    {
     "name": "stdout",
     "output_type": "stream",
     "text": [
      "MASKUSDT_futures_5m.csv done\n"
     ]
    },
    {
     "name": "stderr",
     "output_type": "stream",
     "text": [
      "73it [01:36,  1.15s/it]"
     ]
    },
    {
     "name": "stdout",
     "output_type": "stream",
     "text": [
      "ARBUSDT_futures_5m.csv done\n"
     ]
    },
    {
     "name": "stderr",
     "output_type": "stream",
     "text": [
      "74it [01:38,  1.33s/it]"
     ]
    },
    {
     "name": "stdout",
     "output_type": "stream",
     "text": [
      "EGLDUSDT_futures_5m.csv done\n"
     ]
    },
    {
     "name": "stderr",
     "output_type": "stream",
     "text": [
      "75it [01:40,  1.63s/it]"
     ]
    },
    {
     "name": "stdout",
     "output_type": "stream",
     "text": [
      "SUIUSDT_futures_5m.csv done\n"
     ]
    },
    {
     "name": "stderr",
     "output_type": "stream",
     "text": [
      "76it [01:42,  1.59s/it]"
     ]
    },
    {
     "name": "stdout",
     "output_type": "stream",
     "text": [
      "GRTUSDT_futures_5m.csv done\n"
     ]
    },
    {
     "name": "stderr",
     "output_type": "stream",
     "text": [
      "77it [01:43,  1.59s/it]"
     ]
    },
    {
     "name": "stdout",
     "output_type": "stream",
     "text": [
      "BLURUSDT_futures_5m.csv done\n"
     ]
    },
    {
     "name": "stderr",
     "output_type": "stream",
     "text": [
      "78it [01:45,  1.56s/it]"
     ]
    },
    {
     "name": "stdout",
     "output_type": "stream",
     "text": [
      "IMXUSDT_futures_5m.csv done\n"
     ]
    },
    {
     "name": "stderr",
     "output_type": "stream",
     "text": [
      "79it [01:46,  1.49s/it]"
     ]
    },
    {
     "name": "stdout",
     "output_type": "stream",
     "text": [
      "SEIUSDT_futures_5m.csv done\n"
     ]
    },
    {
     "name": "stderr",
     "output_type": "stream",
     "text": [
      "80it [01:48,  1.54s/it]"
     ]
    },
    {
     "name": "stdout",
     "output_type": "stream",
     "text": [
      "MINAUSDT_futures_5m.csv done\n"
     ]
    },
    {
     "name": "stderr",
     "output_type": "stream",
     "text": [
      "81it [01:49,  1.53s/it]"
     ]
    },
    {
     "name": "stdout",
     "output_type": "stream",
     "text": [
      "ASTRUSDT_futures_5m.csv done\n"
     ]
    },
    {
     "name": "stderr",
     "output_type": "stream",
     "text": [
      "82it [01:51,  1.47s/it]"
     ]
    },
    {
     "name": "stdout",
     "output_type": "stream",
     "text": [
      "IDUSDT_futures_5m.csv done\n"
     ]
    },
    {
     "name": "stderr",
     "output_type": "stream",
     "text": [
      "83it [01:52,  1.39s/it]"
     ]
    },
    {
     "name": "stdout",
     "output_type": "stream",
     "text": [
      "PYTHUSDT_futures_5m.csv done\n"
     ]
    },
    {
     "name": "stderr",
     "output_type": "stream",
     "text": [
      "84it [01:53,  1.32s/it]"
     ]
    },
    {
     "name": "stdout",
     "output_type": "stream",
     "text": [
      "AUCTIONUSDT_futures_5m.csv done\n"
     ]
    },
    {
     "name": "stderr",
     "output_type": "stream",
     "text": [
      "85it [01:54,  1.32s/it]"
     ]
    },
    {
     "name": "stdout",
     "output_type": "stream",
     "text": [
      "STGUSDT_futures_5m.csv done\n"
     ]
    },
    {
     "name": "stderr",
     "output_type": "stream",
     "text": [
      "86it [01:55,  1.25s/it]"
     ]
    },
    {
     "name": "stdout",
     "output_type": "stream",
     "text": [
      "BEAMXUSDT_futures_5m.csv done\n"
     ]
    },
    {
     "name": "stderr",
     "output_type": "stream",
     "text": [
      "87it [01:56,  1.09s/it]"
     ]
    },
    {
     "name": "stdout",
     "output_type": "stream",
     "text": [
      "ZROUSDT_futures_5m.csv done\n"
     ]
    },
    {
     "name": "stderr",
     "output_type": "stream",
     "text": [
      "88it [01:57,  1.09s/it]"
     ]
    },
    {
     "name": "stdout",
     "output_type": "stream",
     "text": [
      "JUPUSDT_futures_5m.csv done\n"
     ]
    },
    {
     "name": "stderr",
     "output_type": "stream",
     "text": [
      "89it [01:59,  1.23s/it]"
     ]
    },
    {
     "name": "stdout",
     "output_type": "stream",
     "text": [
      "ENSUSDT_futures_5m.csv done\n"
     ]
    },
    {
     "name": "stderr",
     "output_type": "stream",
     "text": [
      "90it [02:00,  1.34s/it]"
     ]
    },
    {
     "name": "stdout",
     "output_type": "stream",
     "text": [
      "PENDLEUSDT_futures_5m.csv done\n"
     ]
    },
    {
     "name": "stderr",
     "output_type": "stream",
     "text": [
      "\n"
     ]
    }
   ],
   "source": [
    "from Data.BinanceDownloader import BinanceDownloader\n",
    "from Data.UpbitDownloader import UpbitDownloader\n",
    "\n",
    "bd = BinanceDownloader()\n",
    "ud = UpbitDownloader(rotate_ip = True)\n",
    "\n",
    "\n",
    "from tqdm import tqdm\n",
    "\n",
    "start_date = \"2023-07-01\"\n",
    "\n",
    "\n",
    "# Do Binance or Upbit, one at a time\n",
    "# for i,ticker in tqdm(enumerate(universe)):\n",
    "    # df = await bd.get_ohlcv_monthly_full(ticker+'USDT', '5m', 'spot', start_date = start_date, num_threads = 10, output_dir = 'ohlcv_data/binance/')\n",
    "    # df = await ud.get_ohlcv_full(ticker, 5, start_datetime = start_date, output_dir = 'ohlcv_data/upbit/', num_threads = 10, sleep = 0, rotate_ip=True)\n",
    "\n",
    "for i,ticker in tqdm(enumerate(futures_universe)):\n",
    "    df = await bd.get_ohlcv_monthly_full(ticker+'USDT', '5m', 'futures', start_date = start_date, num_threads = 10, output_dir = 'ohlcv_data/binance/')    "
   ]
  },
  {
   "attachments": {},
   "cell_type": "markdown",
   "metadata": {},
   "source": [
    "### Collect Samples"
   ]
  },
  {
   "attachments": {},
   "cell_type": "markdown",
   "metadata": {},
   "source": [
    "Noise Filters\n",
    "- Whipsaw Filter: Use rolling average as the sampling function to filter out premiums that are too short-lived to trade\n",
    "- Liquidity Filter: Use 1-week average trading volume per 5 min to filter out low-liquidity opportunities"
   ]
  },
  {
   "cell_type": "code",
   "execution_count": 7,
   "metadata": {},
   "outputs": [
    {
     "name": "stderr",
     "output_type": "stream",
     "text": [
      "100%|██████████| 90/90 [01:34<00:00,  1.05s/it]\n"
     ]
    },
    {
     "ename": "KeyError",
     "evalue": "'Time'",
     "output_type": "error",
     "traceback": [
      "\u001b[0;31m---------------------------------------------------------------------------\u001b[0m",
      "\u001b[0;31mKeyError\u001b[0m                                  Traceback (most recent call last)",
      "File \u001b[0;32m~/anaconda3/envs/MLTrading/lib/python3.8/site-packages/pandas/core/indexes/base.py:3653\u001b[0m, in \u001b[0;36mIndex.get_loc\u001b[0;34m(self, key)\u001b[0m\n\u001b[1;32m   3652\u001b[0m \u001b[39mtry\u001b[39;00m:\n\u001b[0;32m-> 3653\u001b[0m     \u001b[39mreturn\u001b[39;00m \u001b[39mself\u001b[39;49m\u001b[39m.\u001b[39;49m_engine\u001b[39m.\u001b[39;49mget_loc(casted_key)\n\u001b[1;32m   3654\u001b[0m \u001b[39mexcept\u001b[39;00m \u001b[39mKeyError\u001b[39;00m \u001b[39mas\u001b[39;00m err:\n",
      "File \u001b[0;32m~/anaconda3/envs/MLTrading/lib/python3.8/site-packages/pandas/_libs/index.pyx:147\u001b[0m, in \u001b[0;36mpandas._libs.index.IndexEngine.get_loc\u001b[0;34m()\u001b[0m\n",
      "File \u001b[0;32m~/anaconda3/envs/MLTrading/lib/python3.8/site-packages/pandas/_libs/index.pyx:176\u001b[0m, in \u001b[0;36mpandas._libs.index.IndexEngine.get_loc\u001b[0;34m()\u001b[0m\n",
      "File \u001b[0;32mpandas/_libs/hashtable_class_helper.pxi:7080\u001b[0m, in \u001b[0;36mpandas._libs.hashtable.PyObjectHashTable.get_item\u001b[0;34m()\u001b[0m\n",
      "File \u001b[0;32mpandas/_libs/hashtable_class_helper.pxi:7088\u001b[0m, in \u001b[0;36mpandas._libs.hashtable.PyObjectHashTable.get_item\u001b[0;34m()\u001b[0m\n",
      "\u001b[0;31mKeyError\u001b[0m: 'Time'",
      "\nThe above exception was the direct cause of the following exception:\n",
      "\u001b[0;31mKeyError\u001b[0m                                  Traceback (most recent call last)",
      "Cell \u001b[0;32mIn[7], line 47\u001b[0m\n\u001b[1;32m     43\u001b[0m     temp[\u001b[39m'\u001b[39m\u001b[39mfutures_end\u001b[39m\u001b[39m'\u001b[39m] \u001b[39m=\u001b[39m target_bn_fut\u001b[39m.\u001b[39mindex[\u001b[39m-\u001b[39m\u001b[39m1\u001b[39m]\n\u001b[1;32m     45\u001b[0m     df_result \u001b[39m=\u001b[39m pd\u001b[39m.\u001b[39mconcat([df_result, temp], axis\u001b[39m=\u001b[39m\u001b[39m0\u001b[39m)\n\u001b[0;32m---> 47\u001b[0m df_result[\u001b[39m'\u001b[39m\u001b[39mfuture_available\u001b[39m\u001b[39m'\u001b[39m] \u001b[39m=\u001b[39m (df_result[\u001b[39m'\u001b[39;49m\u001b[39mTime\u001b[39;49m\u001b[39m'\u001b[39;49m]\u001b[39m>\u001b[39mdf_result[\u001b[39m'\u001b[39m\u001b[39mfutures_start\u001b[39m\u001b[39m'\u001b[39m])\u001b[39m&\u001b[39m(df_result[\u001b[39m'\u001b[39m\u001b[39mTime\u001b[39m\u001b[39m'\u001b[39m]\u001b[39m<\u001b[39mdf_result[\u001b[39m'\u001b[39m\u001b[39mfutures_end\u001b[39m\u001b[39m'\u001b[39m])\n\u001b[1;32m     48\u001b[0m df_result \u001b[39m=\u001b[39m df_result\u001b[39m.\u001b[39mdropna()\u001b[39m.\u001b[39msort_index()\n",
      "File \u001b[0;32m~/anaconda3/envs/MLTrading/lib/python3.8/site-packages/pandas/core/frame.py:3761\u001b[0m, in \u001b[0;36mDataFrame.__getitem__\u001b[0;34m(self, key)\u001b[0m\n\u001b[1;32m   3759\u001b[0m \u001b[39mif\u001b[39;00m \u001b[39mself\u001b[39m\u001b[39m.\u001b[39mcolumns\u001b[39m.\u001b[39mnlevels \u001b[39m>\u001b[39m \u001b[39m1\u001b[39m:\n\u001b[1;32m   3760\u001b[0m     \u001b[39mreturn\u001b[39;00m \u001b[39mself\u001b[39m\u001b[39m.\u001b[39m_getitem_multilevel(key)\n\u001b[0;32m-> 3761\u001b[0m indexer \u001b[39m=\u001b[39m \u001b[39mself\u001b[39;49m\u001b[39m.\u001b[39;49mcolumns\u001b[39m.\u001b[39;49mget_loc(key)\n\u001b[1;32m   3762\u001b[0m \u001b[39mif\u001b[39;00m is_integer(indexer):\n\u001b[1;32m   3763\u001b[0m     indexer \u001b[39m=\u001b[39m [indexer]\n",
      "File \u001b[0;32m~/anaconda3/envs/MLTrading/lib/python3.8/site-packages/pandas/core/indexes/base.py:3655\u001b[0m, in \u001b[0;36mIndex.get_loc\u001b[0;34m(self, key)\u001b[0m\n\u001b[1;32m   3653\u001b[0m     \u001b[39mreturn\u001b[39;00m \u001b[39mself\u001b[39m\u001b[39m.\u001b[39m_engine\u001b[39m.\u001b[39mget_loc(casted_key)\n\u001b[1;32m   3654\u001b[0m \u001b[39mexcept\u001b[39;00m \u001b[39mKeyError\u001b[39;00m \u001b[39mas\u001b[39;00m err:\n\u001b[0;32m-> 3655\u001b[0m     \u001b[39mraise\u001b[39;00m \u001b[39mKeyError\u001b[39;00m(key) \u001b[39mfrom\u001b[39;00m \u001b[39merr\u001b[39;00m\n\u001b[1;32m   3656\u001b[0m \u001b[39mexcept\u001b[39;00m \u001b[39mTypeError\u001b[39;00m:\n\u001b[1;32m   3657\u001b[0m     \u001b[39m# If we have a listlike key, _check_indexing_error will raise\u001b[39;00m\n\u001b[1;32m   3658\u001b[0m     \u001b[39m#  InvalidIndexError. Otherwise we fall through and re-raise\u001b[39;00m\n\u001b[1;32m   3659\u001b[0m     \u001b[39m#  the TypeError.\u001b[39;00m\n\u001b[1;32m   3660\u001b[0m     \u001b[39mself\u001b[39m\u001b[39m.\u001b[39m_check_indexing_error(key)\n",
      "\u001b[0;31mKeyError\u001b[0m: 'Time'"
     ]
    }
   ],
   "source": [
    "import pandas as pd\n",
    "df_result = pd.DataFrame()\n",
    "btc_bn = pd.read_csv(\"ohlcv_data/binance/\"+\"BTCUSDT_spot_5m.csv\", index_col = 'Time').drop_duplicates()\n",
    "btc_bn.index = pd.to_datetime(btc_bn.index)\n",
    "\n",
    "btc_up = pd.read_csv(\"ohlcv_data/upbit/\"+\"BTC_spot_5m.csv\", index_col = 'Time')[::-1].drop_duplicates()\n",
    "btc_up.index = pd.to_datetime(btc_up.index)\n",
    "\n",
    "from tqdm import tqdm\n",
    "for ticker in tqdm(universe):\n",
    "    if ticker in ['BTC', 'BSV', 'T', 'BEAM']:\n",
    "        continue\n",
    "    \n",
    "    futures_ticker = futures_converter[ticker]\n",
    "    target_bn = pd.read_csv(\"ohlcv_data/binance/\"+ticker+\"USDT_spot_5m.csv\", index_col = 'Time').drop_duplicates()\n",
    "    target_bn.index = pd.to_datetime(target_bn.index)\n",
    "\n",
    "    target_bn_fut = pd.read_csv(\"ohlcv_data/binance/\"+futures_ticker+\"USDT_futures_5m.csv\", index_col = 'Time').drop_duplicates()\n",
    "    target_bn_fut.index = pd.to_datetime(target_bn_fut.index)\n",
    "\n",
    "    target_up = pd.read_csv(\"ohlcv_data/upbit/\"+ticker+\"_spot_5m.csv\", index_col = 'Time')[::-1].drop_duplicates()\n",
    "    target_up.index = pd.to_datetime(target_up.index)\n",
    "\n",
    "    premium = (target_up.Close/target_bn.Close)/(btc_up.Close/btc_bn.Close)-1\n",
    "    premium = pd.DataFrame(premium).dropna()\n",
    "    premium['average'] = premium.Close.rolling(6).mean()\n",
    "    premium['average_after_30m'] = premium.Close.rolling(6).mean().shift(-9) #  +- 15min\n",
    "    premium['average_after_1hr'] = premium.Close.rolling(6).mean().shift(-15) # +- 15min\n",
    "    premium = premium.dropna()\n",
    "    \n",
    "\n",
    "    temp =premium[abs(premium.average)>=0.03].copy()\n",
    "    temp['date'] =temp.index.date\n",
    "    temp = temp[~temp.date.duplicated(keep='first')]\n",
    "    temp['kst'] = temp.index.tz_convert('Asia/Seoul')\n",
    "    temp['ticker'] = ticker\n",
    "    forex = 1375\n",
    "    temp['volume_6h'] = round((target_up.PriceVolume.drop_duplicates().rolling(12*6).mean()/forex/1000).loc[temp.index])\n",
    "    temp['volume_1d'] = round((target_up.PriceVolume.drop_duplicates().rolling(12*24).mean()/forex/1000).loc[temp.index])\n",
    "    temp['volume_1w'] = round((target_up.PriceVolume.drop_duplicates().rolling(12*24*7).mean()/forex/1000).loc[temp.index])\n",
    "    \n",
    "    temp['futures_start'] = target_bn_fut.index[0]\n",
    "    temp['futures_end'] = target_bn_fut.index[-1]\n",
    "\n",
    "    df_result = pd.concat([df_result, temp], axis=0)\n",
    "\n",
    "df_result = df_result.dropna().sort_index()"
   ]
  },
  {
   "cell_type": "code",
   "execution_count": 10,
   "metadata": {},
   "outputs": [],
   "source": [
    "df_result['future_available'] = (df_result.index>df_result['futures_start'])&(df_result.index<df_result['futures_end'])\n"
   ]
  },
  {
   "cell_type": "code",
   "execution_count": 231,
   "metadata": {},
   "outputs": [
    {
     "data": {
      "text/html": [
       "<div>\n",
       "<style scoped>\n",
       "    .dataframe tbody tr th:only-of-type {\n",
       "        vertical-align: middle;\n",
       "    }\n",
       "\n",
       "    .dataframe tbody tr th {\n",
       "        vertical-align: top;\n",
       "    }\n",
       "\n",
       "    .dataframe thead th {\n",
       "        text-align: right;\n",
       "    }\n",
       "</style>\n",
       "<table border=\"1\" class=\"dataframe\">\n",
       "  <thead>\n",
       "    <tr style=\"text-align: right;\">\n",
       "      <th></th>\n",
       "      <th>Time</th>\n",
       "      <th>Close</th>\n",
       "      <th>average</th>\n",
       "      <th>average_after_30m</th>\n",
       "      <th>average_after_1hr</th>\n",
       "      <th>date</th>\n",
       "      <th>kst</th>\n",
       "      <th>ticker</th>\n",
       "      <th>volume_6h</th>\n",
       "      <th>volume_1d</th>\n",
       "      <th>volume_1w</th>\n",
       "      <th>futures_start</th>\n",
       "      <th>futures_end</th>\n",
       "      <th>future_available</th>\n",
       "    </tr>\n",
       "  </thead>\n",
       "  <tbody>\n",
       "    <tr>\n",
       "      <th>0</th>\n",
       "      <td>2023-07-10 01:15:00+00:00</td>\n",
       "      <td>-0.136005</td>\n",
       "      <td>-0.042413</td>\n",
       "      <td>-0.006515</td>\n",
       "      <td>-0.005405</td>\n",
       "      <td>2023-07-10</td>\n",
       "      <td>2023-07-10 10:15:00+09:00</td>\n",
       "      <td>WAVES</td>\n",
       "      <td>1287.0</td>\n",
       "      <td>546.0</td>\n",
       "      <td>248.0</td>\n",
       "      <td>2023-07-01 00:00:00+00:00</td>\n",
       "      <td>2024-07-31 23:55:00+00:00</td>\n",
       "      <td>True</td>\n",
       "    </tr>\n",
       "    <tr>\n",
       "      <th>1</th>\n",
       "      <td>2023-07-13 18:30:00+00:00</td>\n",
       "      <td>0.034597</td>\n",
       "      <td>0.032777</td>\n",
       "      <td>0.002372</td>\n",
       "      <td>0.002229</td>\n",
       "      <td>2023-07-13</td>\n",
       "      <td>2023-07-14 03:30:00+09:00</td>\n",
       "      <td>ADA</td>\n",
       "      <td>1441.0</td>\n",
       "      <td>524.0</td>\n",
       "      <td>97.0</td>\n",
       "      <td>2023-07-01 00:00:00+00:00</td>\n",
       "      <td>2024-07-31 23:55:00+00:00</td>\n",
       "      <td>True</td>\n",
       "    </tr>\n",
       "    <tr>\n",
       "      <th>2</th>\n",
       "      <td>2023-07-23 06:05:00+00:00</td>\n",
       "      <td>-0.068693</td>\n",
       "      <td>-0.034080</td>\n",
       "      <td>-0.297523</td>\n",
       "      <td>-0.132748</td>\n",
       "      <td>2023-07-23</td>\n",
       "      <td>2023-07-23 15:05:00+09:00</td>\n",
       "      <td>STMX</td>\n",
       "      <td>2531.0</td>\n",
       "      <td>1400.0</td>\n",
       "      <td>364.0</td>\n",
       "      <td>2023-07-01 00:00:00+00:00</td>\n",
       "      <td>2024-07-31 23:55:00+00:00</td>\n",
       "      <td>True</td>\n",
       "    </tr>\n",
       "    <tr>\n",
       "      <th>3</th>\n",
       "      <td>2023-07-28 09:55:00+00:00</td>\n",
       "      <td>-0.055441</td>\n",
       "      <td>-0.030291</td>\n",
       "      <td>0.003198</td>\n",
       "      <td>-0.002065</td>\n",
       "      <td>2023-07-28</td>\n",
       "      <td>2023-07-28 18:55:00+09:00</td>\n",
       "      <td>STMX</td>\n",
       "      <td>840.0</td>\n",
       "      <td>475.0</td>\n",
       "      <td>598.0</td>\n",
       "      <td>2023-07-01 00:00:00+00:00</td>\n",
       "      <td>2024-07-31 23:55:00+00:00</td>\n",
       "      <td>True</td>\n",
       "    </tr>\n",
       "    <tr>\n",
       "      <th>4</th>\n",
       "      <td>2023-08-02 12:25:00+00:00</td>\n",
       "      <td>0.048470</td>\n",
       "      <td>0.030712</td>\n",
       "      <td>0.012454</td>\n",
       "      <td>0.123675</td>\n",
       "      <td>2023-08-02</td>\n",
       "      <td>2023-08-02 21:25:00+09:00</td>\n",
       "      <td>KNC</td>\n",
       "      <td>2053.0</td>\n",
       "      <td>543.0</td>\n",
       "      <td>196.0</td>\n",
       "      <td>2023-07-01 00:00:00+00:00</td>\n",
       "      <td>2024-07-31 23:55:00+00:00</td>\n",
       "      <td>True</td>\n",
       "    </tr>\n",
       "    <tr>\n",
       "      <th>5</th>\n",
       "      <td>2023-08-05 00:40:00+00:00</td>\n",
       "      <td>0.031775</td>\n",
       "      <td>0.032209</td>\n",
       "      <td>0.048878</td>\n",
       "      <td>0.036106</td>\n",
       "      <td>2023-08-05</td>\n",
       "      <td>2023-08-05 09:40:00+09:00</td>\n",
       "      <td>SC</td>\n",
       "      <td>1318.0</td>\n",
       "      <td>488.0</td>\n",
       "      <td>89.0</td>\n",
       "      <td>2023-07-01 00:00:00+00:00</td>\n",
       "      <td>2024-07-31 23:55:00+00:00</td>\n",
       "      <td>True</td>\n",
       "    </tr>\n",
       "    <tr>\n",
       "      <th>6</th>\n",
       "      <td>2023-08-17 21:50:00+00:00</td>\n",
       "      <td>0.037967</td>\n",
       "      <td>0.031642</td>\n",
       "      <td>-0.001986</td>\n",
       "      <td>-0.002190</td>\n",
       "      <td>2023-08-17</td>\n",
       "      <td>2023-08-18 06:50:00+09:00</td>\n",
       "      <td>XRP</td>\n",
       "      <td>2895.0</td>\n",
       "      <td>1100.0</td>\n",
       "      <td>348.0</td>\n",
       "      <td>2023-07-01 00:00:00+00:00</td>\n",
       "      <td>2024-07-31 23:55:00+00:00</td>\n",
       "      <td>True</td>\n",
       "    </tr>\n",
       "    <tr>\n",
       "      <th>7</th>\n",
       "      <td>2023-08-30 10:15:00+00:00</td>\n",
       "      <td>-0.037116</td>\n",
       "      <td>-0.031463</td>\n",
       "      <td>-0.023591</td>\n",
       "      <td>-0.017764</td>\n",
       "      <td>2023-08-30</td>\n",
       "      <td>2023-08-30 19:15:00+09:00</td>\n",
       "      <td>SEI</td>\n",
       "      <td>767.0</td>\n",
       "      <td>494.0</td>\n",
       "      <td>153.0</td>\n",
       "      <td>2023-08-17 02:30:00+00:00</td>\n",
       "      <td>2024-07-31 23:55:00+00:00</td>\n",
       "      <td>True</td>\n",
       "    </tr>\n",
       "    <tr>\n",
       "      <th>8</th>\n",
       "      <td>2023-09-16 17:00:00+00:00</td>\n",
       "      <td>0.118985</td>\n",
       "      <td>0.032332</td>\n",
       "      <td>-0.000619</td>\n",
       "      <td>0.000675</td>\n",
       "      <td>2023-09-16</td>\n",
       "      <td>2023-09-17 02:00:00+09:00</td>\n",
       "      <td>HIFI</td>\n",
       "      <td>1204.0</td>\n",
       "      <td>1590.0</td>\n",
       "      <td>752.0</td>\n",
       "      <td>2023-09-16 14:30:00+00:00</td>\n",
       "      <td>2024-07-31 23:55:00+00:00</td>\n",
       "      <td>True</td>\n",
       "    </tr>\n",
       "    <tr>\n",
       "      <th>9</th>\n",
       "      <td>2023-09-21 00:00:00+00:00</td>\n",
       "      <td>0.193433</td>\n",
       "      <td>0.032514</td>\n",
       "      <td>0.159382</td>\n",
       "      <td>0.182231</td>\n",
       "      <td>2023-09-21</td>\n",
       "      <td>2023-09-21 09:00:00+09:00</td>\n",
       "      <td>IMX</td>\n",
       "      <td>1726.0</td>\n",
       "      <td>490.0</td>\n",
       "      <td>72.0</td>\n",
       "      <td>2023-07-01 00:00:00+00:00</td>\n",
       "      <td>2024-07-31 23:55:00+00:00</td>\n",
       "      <td>True</td>\n",
       "    </tr>\n",
       "    <tr>\n",
       "      <th>10</th>\n",
       "      <td>2023-10-13 14:05:00+00:00</td>\n",
       "      <td>0.027243</td>\n",
       "      <td>0.030681</td>\n",
       "      <td>0.025226</td>\n",
       "      <td>0.025598</td>\n",
       "      <td>2023-10-13</td>\n",
       "      <td>2023-10-13 23:05:00+09:00</td>\n",
       "      <td>LOOM</td>\n",
       "      <td>265.0</td>\n",
       "      <td>880.0</td>\n",
       "      <td>473.0</td>\n",
       "      <td>2023-10-11 14:30:00+00:00</td>\n",
       "      <td>2024-07-31 23:55:00+00:00</td>\n",
       "      <td>True</td>\n",
       "    </tr>\n",
       "    <tr>\n",
       "      <th>11</th>\n",
       "      <td>2023-10-14 08:35:00+00:00</td>\n",
       "      <td>0.065056</td>\n",
       "      <td>0.031041</td>\n",
       "      <td>0.046011</td>\n",
       "      <td>0.034071</td>\n",
       "      <td>2023-10-14</td>\n",
       "      <td>2023-10-14 17:35:00+09:00</td>\n",
       "      <td>LOOM</td>\n",
       "      <td>1770.0</td>\n",
       "      <td>1178.0</td>\n",
       "      <td>609.0</td>\n",
       "      <td>2023-10-11 14:30:00+00:00</td>\n",
       "      <td>2024-07-31 23:55:00+00:00</td>\n",
       "      <td>True</td>\n",
       "    </tr>\n",
       "    <tr>\n",
       "      <th>12</th>\n",
       "      <td>2023-10-25 07:10:00+00:00</td>\n",
       "      <td>0.174939</td>\n",
       "      <td>0.039911</td>\n",
       "      <td>0.029966</td>\n",
       "      <td>0.011988</td>\n",
       "      <td>2023-10-25</td>\n",
       "      <td>2023-10-25 16:10:00+09:00</td>\n",
       "      <td>POLYX</td>\n",
       "      <td>1154.0</td>\n",
       "      <td>679.0</td>\n",
       "      <td>386.0</td>\n",
       "      <td>2023-10-25 02:30:00+00:00</td>\n",
       "      <td>2024-07-31 23:55:00+00:00</td>\n",
       "      <td>True</td>\n",
       "    </tr>\n",
       "    <tr>\n",
       "      <th>13</th>\n",
       "      <td>2023-11-05 00:00:00+00:00</td>\n",
       "      <td>0.578962</td>\n",
       "      <td>0.095953</td>\n",
       "      <td>0.208087</td>\n",
       "      <td>0.107168</td>\n",
       "      <td>2023-11-05</td>\n",
       "      <td>2023-11-05 09:00:00+09:00</td>\n",
       "      <td>EGLD</td>\n",
       "      <td>3689.0</td>\n",
       "      <td>1481.0</td>\n",
       "      <td>219.0</td>\n",
       "      <td>2023-07-01 00:00:00+00:00</td>\n",
       "      <td>2024-07-31 23:55:00+00:00</td>\n",
       "      <td>True</td>\n",
       "    </tr>\n",
       "    <tr>\n",
       "      <th>14</th>\n",
       "      <td>2023-11-05 00:10:00+00:00</td>\n",
       "      <td>0.049227</td>\n",
       "      <td>0.037288</td>\n",
       "      <td>0.005306</td>\n",
       "      <td>0.000724</td>\n",
       "      <td>2023-11-05</td>\n",
       "      <td>2023-11-05 09:10:00+09:00</td>\n",
       "      <td>IMX</td>\n",
       "      <td>498.0</td>\n",
       "      <td>316.0</td>\n",
       "      <td>54.0</td>\n",
       "      <td>2023-07-01 00:00:00+00:00</td>\n",
       "      <td>2024-07-31 23:55:00+00:00</td>\n",
       "      <td>True</td>\n",
       "    </tr>\n",
       "    <tr>\n",
       "      <th>15</th>\n",
       "      <td>2023-11-09 00:45:00+00:00</td>\n",
       "      <td>0.054179</td>\n",
       "      <td>0.033890</td>\n",
       "      <td>0.000022</td>\n",
       "      <td>0.001367</td>\n",
       "      <td>2023-11-09</td>\n",
       "      <td>2023-11-09 09:45:00+09:00</td>\n",
       "      <td>XEM</td>\n",
       "      <td>947.0</td>\n",
       "      <td>306.0</td>\n",
       "      <td>53.0</td>\n",
       "      <td>2023-07-01 00:00:00+00:00</td>\n",
       "      <td>2024-07-31 23:55:00+00:00</td>\n",
       "      <td>True</td>\n",
       "    </tr>\n",
       "    <tr>\n",
       "      <th>16</th>\n",
       "      <td>2023-11-09 01:15:00+00:00</td>\n",
       "      <td>0.065689</td>\n",
       "      <td>0.035088</td>\n",
       "      <td>0.057801</td>\n",
       "      <td>0.051032</td>\n",
       "      <td>2023-11-09</td>\n",
       "      <td>2023-11-09 10:15:00+09:00</td>\n",
       "      <td>MINA</td>\n",
       "      <td>1113.0</td>\n",
       "      <td>531.0</td>\n",
       "      <td>98.0</td>\n",
       "      <td>2023-07-01 00:00:00+00:00</td>\n",
       "      <td>2024-07-31 23:55:00+00:00</td>\n",
       "      <td>True</td>\n",
       "    </tr>\n",
       "    <tr>\n",
       "      <th>17</th>\n",
       "      <td>2023-11-09 16:10:00+00:00</td>\n",
       "      <td>0.047852</td>\n",
       "      <td>0.033301</td>\n",
       "      <td>0.034649</td>\n",
       "      <td>0.030133</td>\n",
       "      <td>2023-11-09</td>\n",
       "      <td>2023-11-10 01:10:00+09:00</td>\n",
       "      <td>ETC</td>\n",
       "      <td>748.0</td>\n",
       "      <td>788.0</td>\n",
       "      <td>272.0</td>\n",
       "      <td>2023-07-01 00:00:00+00:00</td>\n",
       "      <td>2024-07-31 23:55:00+00:00</td>\n",
       "      <td>True</td>\n",
       "    </tr>\n",
       "    <tr>\n",
       "      <th>18</th>\n",
       "      <td>2023-11-10 15:30:00+00:00</td>\n",
       "      <td>-0.041916</td>\n",
       "      <td>-0.033561</td>\n",
       "      <td>0.001644</td>\n",
       "      <td>0.005745</td>\n",
       "      <td>2023-11-10</td>\n",
       "      <td>2023-11-11 00:30:00+09:00</td>\n",
       "      <td>GAS</td>\n",
       "      <td>2798.0</td>\n",
       "      <td>3565.0</td>\n",
       "      <td>1671.0</td>\n",
       "      <td>2023-10-25 02:45:00+00:00</td>\n",
       "      <td>2024-07-31 23:55:00+00:00</td>\n",
       "      <td>True</td>\n",
       "    </tr>\n",
       "    <tr>\n",
       "      <th>19</th>\n",
       "      <td>2023-11-11 04:10:00+00:00</td>\n",
       "      <td>-0.030420</td>\n",
       "      <td>-0.033190</td>\n",
       "      <td>-0.050299</td>\n",
       "      <td>-0.106609</td>\n",
       "      <td>2023-11-11</td>\n",
       "      <td>2023-11-11 13:10:00+09:00</td>\n",
       "      <td>GAS</td>\n",
       "      <td>6074.0</td>\n",
       "      <td>5338.0</td>\n",
       "      <td>2001.0</td>\n",
       "      <td>2023-10-25 02:45:00+00:00</td>\n",
       "      <td>2024-07-31 23:55:00+00:00</td>\n",
       "      <td>True</td>\n",
       "    </tr>\n",
       "    <tr>\n",
       "      <th>20</th>\n",
       "      <td>2023-12-31 21:20:00+00:00</td>\n",
       "      <td>0.048376</td>\n",
       "      <td>0.036724</td>\n",
       "      <td>0.064809</td>\n",
       "      <td>0.049267</td>\n",
       "      <td>2023-12-31</td>\n",
       "      <td>2024-01-01 06:20:00+09:00</td>\n",
       "      <td>ONT</td>\n",
       "      <td>1261.0</td>\n",
       "      <td>714.0</td>\n",
       "      <td>116.0</td>\n",
       "      <td>2023-07-01 00:00:00+00:00</td>\n",
       "      <td>2024-07-31 23:55:00+00:00</td>\n",
       "      <td>True</td>\n",
       "    </tr>\n",
       "    <tr>\n",
       "      <th>21</th>\n",
       "      <td>2024-01-03 12:20:00+00:00</td>\n",
       "      <td>0.034608</td>\n",
       "      <td>0.032001</td>\n",
       "      <td>0.028003</td>\n",
       "      <td>0.009314</td>\n",
       "      <td>2024-01-03</td>\n",
       "      <td>2024-01-03 21:20:00+09:00</td>\n",
       "      <td>GMT</td>\n",
       "      <td>736.0</td>\n",
       "      <td>320.0</td>\n",
       "      <td>111.0</td>\n",
       "      <td>2023-07-01 00:00:00+00:00</td>\n",
       "      <td>2024-07-31 23:55:00+00:00</td>\n",
       "      <td>True</td>\n",
       "    </tr>\n",
       "    <tr>\n",
       "      <th>22</th>\n",
       "      <td>2024-01-03 12:30:00+00:00</td>\n",
       "      <td>0.026573</td>\n",
       "      <td>0.032818</td>\n",
       "      <td>0.030808</td>\n",
       "      <td>0.014359</td>\n",
       "      <td>2024-01-03</td>\n",
       "      <td>2024-01-03 21:30:00+09:00</td>\n",
       "      <td>XRP</td>\n",
       "      <td>2413.0</td>\n",
       "      <td>858.0</td>\n",
       "      <td>460.0</td>\n",
       "      <td>2023-07-01 00:00:00+00:00</td>\n",
       "      <td>2024-07-31 23:55:00+00:00</td>\n",
       "      <td>True</td>\n",
       "    </tr>\n",
       "    <tr>\n",
       "      <th>23</th>\n",
       "      <td>2024-01-10 23:55:00+00:00</td>\n",
       "      <td>0.055124</td>\n",
       "      <td>0.034553</td>\n",
       "      <td>0.059447</td>\n",
       "      <td>0.041507</td>\n",
       "      <td>2024-01-10</td>\n",
       "      <td>2024-01-11 08:55:00+09:00</td>\n",
       "      <td>ETC</td>\n",
       "      <td>4239.0</td>\n",
       "      <td>1684.0</td>\n",
       "      <td>351.0</td>\n",
       "      <td>2023-07-01 00:00:00+00:00</td>\n",
       "      <td>2024-07-31 23:55:00+00:00</td>\n",
       "      <td>True</td>\n",
       "    </tr>\n",
       "    <tr>\n",
       "      <th>24</th>\n",
       "      <td>2024-01-11 00:00:00+00:00</td>\n",
       "      <td>0.088883</td>\n",
       "      <td>0.044752</td>\n",
       "      <td>0.057282</td>\n",
       "      <td>0.036052</td>\n",
       "      <td>2024-01-11</td>\n",
       "      <td>2024-01-11 09:00:00+09:00</td>\n",
       "      <td>ETC</td>\n",
       "      <td>4065.0</td>\n",
       "      <td>1640.0</td>\n",
       "      <td>345.0</td>\n",
       "      <td>2023-07-01 00:00:00+00:00</td>\n",
       "      <td>2024-07-31 23:55:00+00:00</td>\n",
       "      <td>True</td>\n",
       "    </tr>\n",
       "    <tr>\n",
       "      <th>25</th>\n",
       "      <td>2024-01-25 07:10:00+00:00</td>\n",
       "      <td>-0.134631</td>\n",
       "      <td>-0.041658</td>\n",
       "      <td>-0.049811</td>\n",
       "      <td>-0.006434</td>\n",
       "      <td>2024-01-25</td>\n",
       "      <td>2024-01-25 16:10:00+09:00</td>\n",
       "      <td>ARK</td>\n",
       "      <td>1080.0</td>\n",
       "      <td>407.0</td>\n",
       "      <td>83.0</td>\n",
       "      <td>2023-09-19 16:00:00+00:00</td>\n",
       "      <td>2024-07-31 23:55:00+00:00</td>\n",
       "      <td>True</td>\n",
       "    </tr>\n",
       "    <tr>\n",
       "      <th>26</th>\n",
       "      <td>2024-02-17 01:10:00+00:00</td>\n",
       "      <td>0.031002</td>\n",
       "      <td>0.030796</td>\n",
       "      <td>0.025210</td>\n",
       "      <td>0.034703</td>\n",
       "      <td>2024-02-17</td>\n",
       "      <td>2024-02-17 10:10:00+09:00</td>\n",
       "      <td>SC</td>\n",
       "      <td>1104.0</td>\n",
       "      <td>793.0</td>\n",
       "      <td>232.0</td>\n",
       "      <td>2023-07-01 00:00:00+00:00</td>\n",
       "      <td>2024-07-31 23:55:00+00:00</td>\n",
       "      <td>True</td>\n",
       "    </tr>\n",
       "    <tr>\n",
       "      <th>27</th>\n",
       "      <td>2024-02-18 00:00:00+00:00</td>\n",
       "      <td>0.092969</td>\n",
       "      <td>0.101638</td>\n",
       "      <td>0.104086</td>\n",
       "      <td>0.092781</td>\n",
       "      <td>2024-02-18</td>\n",
       "      <td>2024-02-18 09:00:00+09:00</td>\n",
       "      <td>SC</td>\n",
       "      <td>617.0</td>\n",
       "      <td>796.0</td>\n",
       "      <td>274.0</td>\n",
       "      <td>2023-07-01 00:00:00+00:00</td>\n",
       "      <td>2024-07-31 23:55:00+00:00</td>\n",
       "      <td>True</td>\n",
       "    </tr>\n",
       "    <tr>\n",
       "      <th>28</th>\n",
       "      <td>2024-02-21 21:40:00+00:00</td>\n",
       "      <td>0.038487</td>\n",
       "      <td>0.030086</td>\n",
       "      <td>0.036838</td>\n",
       "      <td>0.029700</td>\n",
       "      <td>2024-02-21</td>\n",
       "      <td>2024-02-22 06:40:00+09:00</td>\n",
       "      <td>STX</td>\n",
       "      <td>495.0</td>\n",
       "      <td>540.0</td>\n",
       "      <td>483.0</td>\n",
       "      <td>2023-07-01 00:00:00+00:00</td>\n",
       "      <td>2024-07-31 23:55:00+00:00</td>\n",
       "      <td>True</td>\n",
       "    </tr>\n",
       "    <tr>\n",
       "      <th>29</th>\n",
       "      <td>2024-02-24 08:05:00+00:00</td>\n",
       "      <td>0.050248</td>\n",
       "      <td>0.032128</td>\n",
       "      <td>0.008874</td>\n",
       "      <td>0.012021</td>\n",
       "      <td>2024-02-24</td>\n",
       "      <td>2024-02-24 17:05:00+09:00</td>\n",
       "      <td>SC</td>\n",
       "      <td>1920.0</td>\n",
       "      <td>1157.0</td>\n",
       "      <td>597.0</td>\n",
       "      <td>2023-07-01 00:00:00+00:00</td>\n",
       "      <td>2024-07-31 23:55:00+00:00</td>\n",
       "      <td>True</td>\n",
       "    </tr>\n",
       "    <tr>\n",
       "      <th>30</th>\n",
       "      <td>2024-02-25 00:00:00+00:00</td>\n",
       "      <td>-0.047560</td>\n",
       "      <td>-0.045407</td>\n",
       "      <td>-0.053569</td>\n",
       "      <td>-0.018153</td>\n",
       "      <td>2024-02-25</td>\n",
       "      <td>2024-02-25 09:00:00+09:00</td>\n",
       "      <td>SC</td>\n",
       "      <td>1664.0</td>\n",
       "      <td>1682.0</td>\n",
       "      <td>668.0</td>\n",
       "      <td>2023-07-01 00:00:00+00:00</td>\n",
       "      <td>2024-07-31 23:55:00+00:00</td>\n",
       "      <td>True</td>\n",
       "    </tr>\n",
       "    <tr>\n",
       "      <th>31</th>\n",
       "      <td>2024-03-03 00:05:00+00:00</td>\n",
       "      <td>0.134407</td>\n",
       "      <td>0.033588</td>\n",
       "      <td>-0.000426</td>\n",
       "      <td>0.000800</td>\n",
       "      <td>2024-03-03</td>\n",
       "      <td>2024-03-03 09:05:00+09:00</td>\n",
       "      <td>EGLD</td>\n",
       "      <td>1173.0</td>\n",
       "      <td>335.0</td>\n",
       "      <td>77.0</td>\n",
       "      <td>2023-07-01 00:00:00+00:00</td>\n",
       "      <td>2024-07-31 23:55:00+00:00</td>\n",
       "      <td>True</td>\n",
       "    </tr>\n",
       "    <tr>\n",
       "      <th>32</th>\n",
       "      <td>2024-03-04 17:15:00+00:00</td>\n",
       "      <td>0.028506</td>\n",
       "      <td>0.030788</td>\n",
       "      <td>0.031035</td>\n",
       "      <td>0.032443</td>\n",
       "      <td>2024-03-04</td>\n",
       "      <td>2024-03-05 02:15:00+09:00</td>\n",
       "      <td>BCH</td>\n",
       "      <td>806.0</td>\n",
       "      <td>713.0</td>\n",
       "      <td>743.0</td>\n",
       "      <td>2023-07-01 00:00:00+00:00</td>\n",
       "      <td>2024-07-31 23:55:00+00:00</td>\n",
       "      <td>True</td>\n",
       "    </tr>\n",
       "    <tr>\n",
       "      <th>33</th>\n",
       "      <td>2024-03-04 17:25:00+00:00</td>\n",
       "      <td>-0.196564</td>\n",
       "      <td>-0.035054</td>\n",
       "      <td>-0.042882</td>\n",
       "      <td>-0.018111</td>\n",
       "      <td>2024-03-04</td>\n",
       "      <td>2024-03-05 02:25:00+09:00</td>\n",
       "      <td>XEC</td>\n",
       "      <td>3604.0</td>\n",
       "      <td>2235.0</td>\n",
       "      <td>513.0</td>\n",
       "      <td>2023-07-01 00:00:00+00:00</td>\n",
       "      <td>2024-07-31 23:55:00+00:00</td>\n",
       "      <td>True</td>\n",
       "    </tr>\n",
       "    <tr>\n",
       "      <th>34</th>\n",
       "      <td>2024-03-05 08:10:00+00:00</td>\n",
       "      <td>-0.051782</td>\n",
       "      <td>-0.031974</td>\n",
       "      <td>-0.012169</td>\n",
       "      <td>-0.006705</td>\n",
       "      <td>2024-03-05</td>\n",
       "      <td>2024-03-05 17:10:00+09:00</td>\n",
       "      <td>LSK</td>\n",
       "      <td>1859.0</td>\n",
       "      <td>863.0</td>\n",
       "      <td>189.0</td>\n",
       "      <td>2024-01-25 14:15:00+00:00</td>\n",
       "      <td>2024-07-31 23:55:00+00:00</td>\n",
       "      <td>True</td>\n",
       "    </tr>\n",
       "    <tr>\n",
       "      <th>35</th>\n",
       "      <td>2024-03-05 20:00:00+00:00</td>\n",
       "      <td>0.042147</td>\n",
       "      <td>0.030068</td>\n",
       "      <td>0.038963</td>\n",
       "      <td>0.043516</td>\n",
       "      <td>2024-03-05</td>\n",
       "      <td>2024-03-06 05:00:00+09:00</td>\n",
       "      <td>ETC</td>\n",
       "      <td>1858.0</td>\n",
       "      <td>2445.0</td>\n",
       "      <td>1075.0</td>\n",
       "      <td>2023-07-01 00:00:00+00:00</td>\n",
       "      <td>2024-07-31 23:55:00+00:00</td>\n",
       "      <td>True</td>\n",
       "    </tr>\n",
       "    <tr>\n",
       "      <th>36</th>\n",
       "      <td>2024-03-05 22:00:00+00:00</td>\n",
       "      <td>0.041719</td>\n",
       "      <td>0.031750</td>\n",
       "      <td>0.011332</td>\n",
       "      <td>0.013896</td>\n",
       "      <td>2024-03-05</td>\n",
       "      <td>2024-03-06 07:00:00+09:00</td>\n",
       "      <td>XEC</td>\n",
       "      <td>4147.0</td>\n",
       "      <td>2636.0</td>\n",
       "      <td>573.0</td>\n",
       "      <td>2023-07-01 00:00:00+00:00</td>\n",
       "      <td>2024-07-31 23:55:00+00:00</td>\n",
       "      <td>True</td>\n",
       "    </tr>\n",
       "    <tr>\n",
       "      <th>37</th>\n",
       "      <td>2024-03-06 00:35:00+00:00</td>\n",
       "      <td>0.028447</td>\n",
       "      <td>0.030551</td>\n",
       "      <td>0.021664</td>\n",
       "      <td>0.015792</td>\n",
       "      <td>2024-03-06</td>\n",
       "      <td>2024-03-06 09:35:00+09:00</td>\n",
       "      <td>ETC</td>\n",
       "      <td>891.0</td>\n",
       "      <td>2108.0</td>\n",
       "      <td>1026.0</td>\n",
       "      <td>2023-07-01 00:00:00+00:00</td>\n",
       "      <td>2024-07-31 23:55:00+00:00</td>\n",
       "      <td>True</td>\n",
       "    </tr>\n",
       "    <tr>\n",
       "      <th>38</th>\n",
       "      <td>2024-03-06 01:05:00+00:00</td>\n",
       "      <td>0.066320</td>\n",
       "      <td>0.036466</td>\n",
       "      <td>0.066812</td>\n",
       "      <td>-0.002859</td>\n",
       "      <td>2024-03-06</td>\n",
       "      <td>2024-03-06 10:05:00+09:00</td>\n",
       "      <td>LSK</td>\n",
       "      <td>3394.0</td>\n",
       "      <td>2540.0</td>\n",
       "      <td>469.0</td>\n",
       "      <td>2024-01-25 14:15:00+00:00</td>\n",
       "      <td>2024-07-31 23:55:00+00:00</td>\n",
       "      <td>True</td>\n",
       "    </tr>\n",
       "    <tr>\n",
       "      <th>39</th>\n",
       "      <td>2024-03-11 00:05:00+00:00</td>\n",
       "      <td>0.072038</td>\n",
       "      <td>0.030416</td>\n",
       "      <td>0.000294</td>\n",
       "      <td>-0.000327</td>\n",
       "      <td>2024-03-11</td>\n",
       "      <td>2024-03-11 09:05:00+09:00</td>\n",
       "      <td>KAVA</td>\n",
       "      <td>1008.0</td>\n",
       "      <td>324.0</td>\n",
       "      <td>103.0</td>\n",
       "      <td>2023-07-01 00:00:00+00:00</td>\n",
       "      <td>2024-07-31 23:55:00+00:00</td>\n",
       "      <td>True</td>\n",
       "    </tr>\n",
       "    <tr>\n",
       "      <th>40</th>\n",
       "      <td>2024-03-13 09:55:00+00:00</td>\n",
       "      <td>0.045698</td>\n",
       "      <td>0.034325</td>\n",
       "      <td>0.038688</td>\n",
       "      <td>0.045375</td>\n",
       "      <td>2024-03-13</td>\n",
       "      <td>2024-03-13 18:55:00+09:00</td>\n",
       "      <td>ZRX</td>\n",
       "      <td>1175.0</td>\n",
       "      <td>1177.0</td>\n",
       "      <td>511.0</td>\n",
       "      <td>2023-07-01 00:00:00+00:00</td>\n",
       "      <td>2024-07-31 23:55:00+00:00</td>\n",
       "      <td>True</td>\n",
       "    </tr>\n",
       "    <tr>\n",
       "      <th>41</th>\n",
       "      <td>2024-04-12 18:50:00+00:00</td>\n",
       "      <td>0.022544</td>\n",
       "      <td>0.030750</td>\n",
       "      <td>0.002999</td>\n",
       "      <td>0.001487</td>\n",
       "      <td>2024-04-12</td>\n",
       "      <td>2024-04-13 03:50:00+09:00</td>\n",
       "      <td>CVC</td>\n",
       "      <td>389.0</td>\n",
       "      <td>601.0</td>\n",
       "      <td>112.0</td>\n",
       "      <td>2023-07-01 00:00:00+00:00</td>\n",
       "      <td>2024-07-31 23:55:00+00:00</td>\n",
       "      <td>True</td>\n",
       "    </tr>\n",
       "    <tr>\n",
       "      <th>42</th>\n",
       "      <td>2024-04-13 20:25:00+00:00</td>\n",
       "      <td>0.045807</td>\n",
       "      <td>0.031657</td>\n",
       "      <td>0.029246</td>\n",
       "      <td>0.030893</td>\n",
       "      <td>2024-04-13</td>\n",
       "      <td>2024-04-14 05:25:00+09:00</td>\n",
       "      <td>ETC</td>\n",
       "      <td>379.0</td>\n",
       "      <td>378.0</td>\n",
       "      <td>233.0</td>\n",
       "      <td>2023-07-01 00:00:00+00:00</td>\n",
       "      <td>2024-07-31 23:55:00+00:00</td>\n",
       "      <td>True</td>\n",
       "    </tr>\n",
       "    <tr>\n",
       "      <th>43</th>\n",
       "      <td>2024-04-14 13:05:00+00:00</td>\n",
       "      <td>0.049308</td>\n",
       "      <td>0.033862</td>\n",
       "      <td>0.001733</td>\n",
       "      <td>-0.000328</td>\n",
       "      <td>2024-04-14</td>\n",
       "      <td>2024-04-14 22:05:00+09:00</td>\n",
       "      <td>ONG</td>\n",
       "      <td>164.0</td>\n",
       "      <td>411.0</td>\n",
       "      <td>466.0</td>\n",
       "      <td>2023-11-27 13:00:00+00:00</td>\n",
       "      <td>2024-07-31 23:55:00+00:00</td>\n",
       "      <td>True</td>\n",
       "    </tr>\n",
       "    <tr>\n",
       "      <th>44</th>\n",
       "      <td>2024-04-15 00:05:00+00:00</td>\n",
       "      <td>0.044280</td>\n",
       "      <td>0.031289</td>\n",
       "      <td>0.030314</td>\n",
       "      <td>0.013899</td>\n",
       "      <td>2024-04-15</td>\n",
       "      <td>2024-04-15 09:05:00+09:00</td>\n",
       "      <td>ONG</td>\n",
       "      <td>901.0</td>\n",
       "      <td>412.0</td>\n",
       "      <td>450.0</td>\n",
       "      <td>2023-11-27 13:00:00+00:00</td>\n",
       "      <td>2024-07-31 23:55:00+00:00</td>\n",
       "      <td>True</td>\n",
       "    </tr>\n",
       "    <tr>\n",
       "      <th>45</th>\n",
       "      <td>2024-04-29 07:10:00+00:00</td>\n",
       "      <td>0.044112</td>\n",
       "      <td>0.033703</td>\n",
       "      <td>0.002750</td>\n",
       "      <td>-0.008809</td>\n",
       "      <td>2024-04-29</td>\n",
       "      <td>2024-04-29 16:10:00+09:00</td>\n",
       "      <td>WAVES</td>\n",
       "      <td>1951.0</td>\n",
       "      <td>577.0</td>\n",
       "      <td>108.0</td>\n",
       "      <td>2023-07-01 00:00:00+00:00</td>\n",
       "      <td>2024-07-31 23:55:00+00:00</td>\n",
       "      <td>True</td>\n",
       "    </tr>\n",
       "  </tbody>\n",
       "</table>\n",
       "</div>"
      ],
      "text/plain": [
       "                        Time     Close   average  average_after_30m  average_after_1hr        date                       kst ticker  volume_6h  volume_1d  volume_1w             futures_start               futures_end  future_available\n",
       "0  2023-07-10 01:15:00+00:00 -0.136005 -0.042413          -0.006515          -0.005405  2023-07-10 2023-07-10 10:15:00+09:00  WAVES     1287.0      546.0      248.0 2023-07-01 00:00:00+00:00 2024-07-31 23:55:00+00:00              True\n",
       "1  2023-07-13 18:30:00+00:00  0.034597  0.032777           0.002372           0.002229  2023-07-13 2023-07-14 03:30:00+09:00    ADA     1441.0      524.0       97.0 2023-07-01 00:00:00+00:00 2024-07-31 23:55:00+00:00              True\n",
       "2  2023-07-23 06:05:00+00:00 -0.068693 -0.034080          -0.297523          -0.132748  2023-07-23 2023-07-23 15:05:00+09:00   STMX     2531.0     1400.0      364.0 2023-07-01 00:00:00+00:00 2024-07-31 23:55:00+00:00              True\n",
       "3  2023-07-28 09:55:00+00:00 -0.055441 -0.030291           0.003198          -0.002065  2023-07-28 2023-07-28 18:55:00+09:00   STMX      840.0      475.0      598.0 2023-07-01 00:00:00+00:00 2024-07-31 23:55:00+00:00              True\n",
       "4  2023-08-02 12:25:00+00:00  0.048470  0.030712           0.012454           0.123675  2023-08-02 2023-08-02 21:25:00+09:00    KNC     2053.0      543.0      196.0 2023-07-01 00:00:00+00:00 2024-07-31 23:55:00+00:00              True\n",
       "5  2023-08-05 00:40:00+00:00  0.031775  0.032209           0.048878           0.036106  2023-08-05 2023-08-05 09:40:00+09:00     SC     1318.0      488.0       89.0 2023-07-01 00:00:00+00:00 2024-07-31 23:55:00+00:00              True\n",
       "6  2023-08-17 21:50:00+00:00  0.037967  0.031642          -0.001986          -0.002190  2023-08-17 2023-08-18 06:50:00+09:00    XRP     2895.0     1100.0      348.0 2023-07-01 00:00:00+00:00 2024-07-31 23:55:00+00:00              True\n",
       "7  2023-08-30 10:15:00+00:00 -0.037116 -0.031463          -0.023591          -0.017764  2023-08-30 2023-08-30 19:15:00+09:00    SEI      767.0      494.0      153.0 2023-08-17 02:30:00+00:00 2024-07-31 23:55:00+00:00              True\n",
       "8  2023-09-16 17:00:00+00:00  0.118985  0.032332          -0.000619           0.000675  2023-09-16 2023-09-17 02:00:00+09:00   HIFI     1204.0     1590.0      752.0 2023-09-16 14:30:00+00:00 2024-07-31 23:55:00+00:00              True\n",
       "9  2023-09-21 00:00:00+00:00  0.193433  0.032514           0.159382           0.182231  2023-09-21 2023-09-21 09:00:00+09:00    IMX     1726.0      490.0       72.0 2023-07-01 00:00:00+00:00 2024-07-31 23:55:00+00:00              True\n",
       "10 2023-10-13 14:05:00+00:00  0.027243  0.030681           0.025226           0.025598  2023-10-13 2023-10-13 23:05:00+09:00   LOOM      265.0      880.0      473.0 2023-10-11 14:30:00+00:00 2024-07-31 23:55:00+00:00              True\n",
       "11 2023-10-14 08:35:00+00:00  0.065056  0.031041           0.046011           0.034071  2023-10-14 2023-10-14 17:35:00+09:00   LOOM     1770.0     1178.0      609.0 2023-10-11 14:30:00+00:00 2024-07-31 23:55:00+00:00              True\n",
       "12 2023-10-25 07:10:00+00:00  0.174939  0.039911           0.029966           0.011988  2023-10-25 2023-10-25 16:10:00+09:00  POLYX     1154.0      679.0      386.0 2023-10-25 02:30:00+00:00 2024-07-31 23:55:00+00:00              True\n",
       "13 2023-11-05 00:00:00+00:00  0.578962  0.095953           0.208087           0.107168  2023-11-05 2023-11-05 09:00:00+09:00   EGLD     3689.0     1481.0      219.0 2023-07-01 00:00:00+00:00 2024-07-31 23:55:00+00:00              True\n",
       "14 2023-11-05 00:10:00+00:00  0.049227  0.037288           0.005306           0.000724  2023-11-05 2023-11-05 09:10:00+09:00    IMX      498.0      316.0       54.0 2023-07-01 00:00:00+00:00 2024-07-31 23:55:00+00:00              True\n",
       "15 2023-11-09 00:45:00+00:00  0.054179  0.033890           0.000022           0.001367  2023-11-09 2023-11-09 09:45:00+09:00    XEM      947.0      306.0       53.0 2023-07-01 00:00:00+00:00 2024-07-31 23:55:00+00:00              True\n",
       "16 2023-11-09 01:15:00+00:00  0.065689  0.035088           0.057801           0.051032  2023-11-09 2023-11-09 10:15:00+09:00   MINA     1113.0      531.0       98.0 2023-07-01 00:00:00+00:00 2024-07-31 23:55:00+00:00              True\n",
       "17 2023-11-09 16:10:00+00:00  0.047852  0.033301           0.034649           0.030133  2023-11-09 2023-11-10 01:10:00+09:00    ETC      748.0      788.0      272.0 2023-07-01 00:00:00+00:00 2024-07-31 23:55:00+00:00              True\n",
       "18 2023-11-10 15:30:00+00:00 -0.041916 -0.033561           0.001644           0.005745  2023-11-10 2023-11-11 00:30:00+09:00    GAS     2798.0     3565.0     1671.0 2023-10-25 02:45:00+00:00 2024-07-31 23:55:00+00:00              True\n",
       "19 2023-11-11 04:10:00+00:00 -0.030420 -0.033190          -0.050299          -0.106609  2023-11-11 2023-11-11 13:10:00+09:00    GAS     6074.0     5338.0     2001.0 2023-10-25 02:45:00+00:00 2024-07-31 23:55:00+00:00              True\n",
       "20 2023-12-31 21:20:00+00:00  0.048376  0.036724           0.064809           0.049267  2023-12-31 2024-01-01 06:20:00+09:00    ONT     1261.0      714.0      116.0 2023-07-01 00:00:00+00:00 2024-07-31 23:55:00+00:00              True\n",
       "21 2024-01-03 12:20:00+00:00  0.034608  0.032001           0.028003           0.009314  2024-01-03 2024-01-03 21:20:00+09:00    GMT      736.0      320.0      111.0 2023-07-01 00:00:00+00:00 2024-07-31 23:55:00+00:00              True\n",
       "22 2024-01-03 12:30:00+00:00  0.026573  0.032818           0.030808           0.014359  2024-01-03 2024-01-03 21:30:00+09:00    XRP     2413.0      858.0      460.0 2023-07-01 00:00:00+00:00 2024-07-31 23:55:00+00:00              True\n",
       "23 2024-01-10 23:55:00+00:00  0.055124  0.034553           0.059447           0.041507  2024-01-10 2024-01-11 08:55:00+09:00    ETC     4239.0     1684.0      351.0 2023-07-01 00:00:00+00:00 2024-07-31 23:55:00+00:00              True\n",
       "24 2024-01-11 00:00:00+00:00  0.088883  0.044752           0.057282           0.036052  2024-01-11 2024-01-11 09:00:00+09:00    ETC     4065.0     1640.0      345.0 2023-07-01 00:00:00+00:00 2024-07-31 23:55:00+00:00              True\n",
       "25 2024-01-25 07:10:00+00:00 -0.134631 -0.041658          -0.049811          -0.006434  2024-01-25 2024-01-25 16:10:00+09:00    ARK     1080.0      407.0       83.0 2023-09-19 16:00:00+00:00 2024-07-31 23:55:00+00:00              True\n",
       "26 2024-02-17 01:10:00+00:00  0.031002  0.030796           0.025210           0.034703  2024-02-17 2024-02-17 10:10:00+09:00     SC     1104.0      793.0      232.0 2023-07-01 00:00:00+00:00 2024-07-31 23:55:00+00:00              True\n",
       "27 2024-02-18 00:00:00+00:00  0.092969  0.101638           0.104086           0.092781  2024-02-18 2024-02-18 09:00:00+09:00     SC      617.0      796.0      274.0 2023-07-01 00:00:00+00:00 2024-07-31 23:55:00+00:00              True\n",
       "28 2024-02-21 21:40:00+00:00  0.038487  0.030086           0.036838           0.029700  2024-02-21 2024-02-22 06:40:00+09:00    STX      495.0      540.0      483.0 2023-07-01 00:00:00+00:00 2024-07-31 23:55:00+00:00              True\n",
       "29 2024-02-24 08:05:00+00:00  0.050248  0.032128           0.008874           0.012021  2024-02-24 2024-02-24 17:05:00+09:00     SC     1920.0     1157.0      597.0 2023-07-01 00:00:00+00:00 2024-07-31 23:55:00+00:00              True\n",
       "30 2024-02-25 00:00:00+00:00 -0.047560 -0.045407          -0.053569          -0.018153  2024-02-25 2024-02-25 09:00:00+09:00     SC     1664.0     1682.0      668.0 2023-07-01 00:00:00+00:00 2024-07-31 23:55:00+00:00              True\n",
       "31 2024-03-03 00:05:00+00:00  0.134407  0.033588          -0.000426           0.000800  2024-03-03 2024-03-03 09:05:00+09:00   EGLD     1173.0      335.0       77.0 2023-07-01 00:00:00+00:00 2024-07-31 23:55:00+00:00              True\n",
       "32 2024-03-04 17:15:00+00:00  0.028506  0.030788           0.031035           0.032443  2024-03-04 2024-03-05 02:15:00+09:00    BCH      806.0      713.0      743.0 2023-07-01 00:00:00+00:00 2024-07-31 23:55:00+00:00              True\n",
       "33 2024-03-04 17:25:00+00:00 -0.196564 -0.035054          -0.042882          -0.018111  2024-03-04 2024-03-05 02:25:00+09:00    XEC     3604.0     2235.0      513.0 2023-07-01 00:00:00+00:00 2024-07-31 23:55:00+00:00              True\n",
       "34 2024-03-05 08:10:00+00:00 -0.051782 -0.031974          -0.012169          -0.006705  2024-03-05 2024-03-05 17:10:00+09:00    LSK     1859.0      863.0      189.0 2024-01-25 14:15:00+00:00 2024-07-31 23:55:00+00:00              True\n",
       "35 2024-03-05 20:00:00+00:00  0.042147  0.030068           0.038963           0.043516  2024-03-05 2024-03-06 05:00:00+09:00    ETC     1858.0     2445.0     1075.0 2023-07-01 00:00:00+00:00 2024-07-31 23:55:00+00:00              True\n",
       "36 2024-03-05 22:00:00+00:00  0.041719  0.031750           0.011332           0.013896  2024-03-05 2024-03-06 07:00:00+09:00    XEC     4147.0     2636.0      573.0 2023-07-01 00:00:00+00:00 2024-07-31 23:55:00+00:00              True\n",
       "37 2024-03-06 00:35:00+00:00  0.028447  0.030551           0.021664           0.015792  2024-03-06 2024-03-06 09:35:00+09:00    ETC      891.0     2108.0     1026.0 2023-07-01 00:00:00+00:00 2024-07-31 23:55:00+00:00              True\n",
       "38 2024-03-06 01:05:00+00:00  0.066320  0.036466           0.066812          -0.002859  2024-03-06 2024-03-06 10:05:00+09:00    LSK     3394.0     2540.0      469.0 2024-01-25 14:15:00+00:00 2024-07-31 23:55:00+00:00              True\n",
       "39 2024-03-11 00:05:00+00:00  0.072038  0.030416           0.000294          -0.000327  2024-03-11 2024-03-11 09:05:00+09:00   KAVA     1008.0      324.0      103.0 2023-07-01 00:00:00+00:00 2024-07-31 23:55:00+00:00              True\n",
       "40 2024-03-13 09:55:00+00:00  0.045698  0.034325           0.038688           0.045375  2024-03-13 2024-03-13 18:55:00+09:00    ZRX     1175.0     1177.0      511.0 2023-07-01 00:00:00+00:00 2024-07-31 23:55:00+00:00              True\n",
       "41 2024-04-12 18:50:00+00:00  0.022544  0.030750           0.002999           0.001487  2024-04-12 2024-04-13 03:50:00+09:00    CVC      389.0      601.0      112.0 2023-07-01 00:00:00+00:00 2024-07-31 23:55:00+00:00              True\n",
       "42 2024-04-13 20:25:00+00:00  0.045807  0.031657           0.029246           0.030893  2024-04-13 2024-04-14 05:25:00+09:00    ETC      379.0      378.0      233.0 2023-07-01 00:00:00+00:00 2024-07-31 23:55:00+00:00              True\n",
       "43 2024-04-14 13:05:00+00:00  0.049308  0.033862           0.001733          -0.000328  2024-04-14 2024-04-14 22:05:00+09:00    ONG      164.0      411.0      466.0 2023-11-27 13:00:00+00:00 2024-07-31 23:55:00+00:00              True\n",
       "44 2024-04-15 00:05:00+00:00  0.044280  0.031289           0.030314           0.013899  2024-04-15 2024-04-15 09:05:00+09:00    ONG      901.0      412.0      450.0 2023-11-27 13:00:00+00:00 2024-07-31 23:55:00+00:00              True\n",
       "45 2024-04-29 07:10:00+00:00  0.044112  0.033703           0.002750          -0.008809  2024-04-29 2024-04-29 16:10:00+09:00  WAVES     1951.0      577.0      108.0 2023-07-01 00:00:00+00:00 2024-07-31 23:55:00+00:00              True"
      ]
     },
     "execution_count": 231,
     "metadata": {},
     "output_type": "execute_result"
    }
   ],
   "source": [
    "pd.set_option('display.max_rows', None)\n",
    "pd.set_option('display.max_columns', None)\n",
    "pd.set_option('display.expand_frame_repr', False)\n",
    "pd.set_option('max_colwidth', None)\n",
    "# df_filtered = df_result[(df_result['future_available']) & \n",
    "#                         (df_result['volume_6h'] > 250) & \n",
    "#                         (df_result['volume_1d'] > 250) & \n",
    "#                         (df_result['volume_1w'] > 250) & \n",
    "#                         (~df_result['ticker'].isin(['STRAX', 'POWR']))].reset_index()\n",
    "\n",
    "df_filtered = df_result[(df_result['future_available']) & \n",
    "                        # (df_result['volume_6h'] > 250) & \n",
    "                        (df_result['volume_1d'] > 300) & \n",
    "                        # (df_result['volume_1w'] > 250) & \n",
    "                        (~df_result['ticker'].isin(['STRAX', 'POWR', 'IOTA', 'APT', 'FLOW', 'SOL', 'MTL']))].reset_index()\n",
    "# IOTA 입출금 중단이였음. \n",
    "df_filtered"
   ]
  },
  {
   "cell_type": "code",
   "execution_count": 241,
   "metadata": {},
   "outputs": [],
   "source": [
    "import numpy as np\n",
    "cost = 0.01\n",
    "profit = df_filtered.average_after_1hr*np.sign(df_filtered.average) - cost\n",
    "# profit = df_filtered.average_after_30m*np.sign(df_filtered.average) - cost"
   ]
  },
  {
   "cell_type": "code",
   "execution_count": 242,
   "metadata": {},
   "outputs": [
    {
     "name": "stdout",
     "output_type": "stream",
     "text": [
      "sharpe: 3.4297046572889185\n"
     ]
    }
   ],
   "source": [
    "print('sharpe:',profit.mean()/profit.std()*np.sqrt(len(profit)))"
   ]
  },
  {
   "cell_type": "code",
   "execution_count": 243,
   "metadata": {},
   "outputs": [
    {
     "name": "stdout",
     "output_type": "stream",
     "text": [
      "zscore: 0.5056823637042392\n"
     ]
    }
   ],
   "source": [
    "print('zscore:',profit.mean()/profit.std())"
   ]
  },
  {
   "cell_type": "code",
   "execution_count": 244,
   "metadata": {},
   "outputs": [
    {
     "data": {
      "text/plain": [
       "(0.020837796343399478, 0.958538631796376)"
      ]
     },
     "execution_count": 244,
     "metadata": {},
     "output_type": "execute_result"
    }
   ],
   "source": [
    "profit.mean(), profit.sum()"
   ]
  },
  {
   "attachments": {},
   "cell_type": "markdown",
   "metadata": {},
   "source": [
    "두가지 경우가 있음.\n",
    "1) 한국이 더 낮을떄: \n",
    "- 이럴땐 업비트에 미리 둔 돈으로 사서 바로 보내면 즉시 수익\n",
    "- 돈이 없다면 바이낸스에서 transfer이 빠른애로 보내야함. 리서치 필요: USDT on Tron, Solana, etc. USDT는 헷징 코스트가 없음. 테스트 필요.\n",
    "2) 한국이 더 높을떄: 바이낸스에서 해당 토큰을 사서 바로 보내야함. "
   ]
  },
  {
   "attachments": {},
   "cell_type": "markdown",
   "metadata": {},
   "source": [
    "중요: 입출금 가능여부\n",
    "- 업비트 공지확인\n",
    "- 바이낸스 출금가능여부 확인"
   ]
  },
  {
   "cell_type": "code",
   "execution_count": 19,
   "metadata": {},
   "outputs": [
    {
     "data": {
      "text/plain": [
       "<Axes: >"
      ]
     },
     "execution_count": 19,
     "metadata": {},
     "output_type": "execute_result"
    },
    {
     "data": {
      "image/png": "[encoded data removed]",
      "text/plain": [
       "<Figure size 640x480 with 1 Axes>"
      ]
     },
     "metadata": {},
     "output_type": "display_data"
    }
   ],
   "source": [
    "# Trading Volume distribution\n",
    "df_result.sort_values(by='volume').reset_index().volume.plot()"
   ]
  }
 ],
 "metadata": {
  "kernelspec": {
   "display_name": "MLTrading",
   "language": "python",
   "name": "python3"
  },
  "language_info": {
   "codemirror_mode": {
    "name": "ipython",
    "version": 3
   },
   "file_extension": ".py",
   "mimetype": "text/x-python",
   "name": "python",
   "nbconvert_exporter": "python",
   "pygments_lexer": "ipython3",
   "version": "3.8.19"
  },
  "orig_nbformat": 4
 },
 "nbformat": 4,
 "nbformat_minor": 2
}
